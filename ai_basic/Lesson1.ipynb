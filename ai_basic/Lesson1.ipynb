{
 "cells": [
  {
   "cell_type": "markdown",
   "metadata": {},
   "source": [
    "# Lesson 1"
   ]
  },
  {
   "cell_type": "markdown",
   "metadata": {},
   "source": [
    "## python的情况介绍\n",
    "- python的场景\n",
    "- python的特点\n",
    "- python的优点\n",
    "\n",
    "见PPT"
   ]
  },
  {
   "cell_type": "markdown",
   "metadata": {},
   "source": [
    "## learn case"
   ]
  },
  {
   "cell_type": "markdown",
   "metadata": {},
   "source": [
    "### python 运行方式\n",
    "- 交互式(里)\n",
    "    ``` python\n",
    "    >>> python\n",
    "    ```\n",
    "- 命令式(外)\n",
    "    ``` python \n",
    "    >>> python demo.py\n",
    "    ```"
   ]
  },
  {
   "cell_type": "markdown",
   "metadata": {},
   "source": [
    "不论是在Windomws的CMD命令行,powershell,还是在类Unix下的`Terminal(终端)`，还是在IDE（pycharm，vscode）,都可以使用运行python，都像电视机和遥控器关系。\n",
    "\n",
    "交互式进入，使用`python`  \n",
    "退出使用`exit()` 或 'CRTL+D'\n",
    "\n",
    "\n",
    "那么使用交互式python来实现简单的计算器功能"
   ]
  },
  {
   "cell_type": "code",
   "execution_count": 3,
   "metadata": {},
   "outputs": [
    {
     "data": {
      "text/plain": [
       "880"
      ]
     },
     "execution_count": 3,
     "metadata": {},
     "output_type": "execute_result"
    }
   ],
   "source": [
    "# 首先使用 python进入\n",
    "# 一般会有一些提示信息\n",
    "# 比如提示版本信息\n",
    "\n",
    "# 计算 一个月的工作时间\n",
    "22 * 5 * 8"
   ]
  },
  {
   "cell_type": "markdown",
   "metadata": {},
   "source": [
    "### 与电脑交互\n",
    "print函数讲解  \n",
    "让电脑告诉我一些信息"
   ]
  },
  {
   "cell_type": "code",
   "execution_count": 4,
   "metadata": {},
   "outputs": [
    {
     "name": "stdout",
     "output_type": "stream",
     "text": [
      "在吗?\n"
     ]
    }
   ],
   "source": [
    "print('在吗?')"
   ]
  },
  {
   "cell_type": "code",
   "execution_count": 5,
   "metadata": {},
   "outputs": [
    {
     "name": "stdout",
     "output_type": "stream",
     "text": [
      "吃饭吗？\n"
     ]
    }
   ],
   "source": [
    "print('吃饭吗？')"
   ]
  },
  {
   "cell_type": "code",
   "execution_count": 6,
   "metadata": {},
   "outputs": [
    {
     "name": "stdout",
     "output_type": "stream",
     "text": [
      "走吗？\n"
     ]
    }
   ],
   "source": [
    "print('走吗？')"
   ]
  },
  {
   "cell_type": "markdown",
   "metadata": {},
   "source": [
    "创建个`demo.py` 并将上面代码赋值进去并使用`python demo.py`进行运行"
   ]
  },
  {
   "cell_type": "markdown",
   "metadata": {},
   "source": [
    "继续来和电脑交互"
   ]
  },
  {
   "cell_type": "markdown",
   "metadata": {},
   "source": [
    "input函数讲解  \n",
    "先来们来问电脑一些信息"
   ]
  },
  {
   "cell_type": "code",
   "execution_count": 10,
   "metadata": {},
   "outputs": [
    {
     "data": {
      "text/plain": [
       "'在吗'"
      ]
     },
     "execution_count": 10,
     "metadata": {},
     "output_type": "execute_result"
    }
   ],
   "source": [
    "input()"
   ]
  },
  {
   "cell_type": "markdown",
   "metadata": {},
   "source": [
    "来个带互动信息的"
   ]
  },
  {
   "cell_type": "code",
   "execution_count": 17,
   "metadata": {},
   "outputs": [
    {
     "name": "stdout",
     "output_type": "stream",
     "text": [
      "在\n"
     ]
    }
   ],
   "source": [
    "text = input()\n",
    "print(text[:-2])"
   ]
  },
  {
   "cell_type": "code",
   "execution_count": 18,
   "metadata": {},
   "outputs": [
    {
     "name": "stdout",
     "output_type": "stream",
     "text": [
      "吃饭\n"
     ]
    }
   ],
   "source": [
    "text = input()\n",
    "print(text[:-2])"
   ]
  },
  {
   "cell_type": "code",
   "execution_count": 19,
   "metadata": {},
   "outputs": [
    {
     "name": "stdout",
     "output_type": "stream",
     "text": [
      "现在走\n"
     ]
    }
   ],
   "source": [
    "text = input()\n",
    "print(text[:-2])"
   ]
  },
  {
   "cell_type": "markdown",
   "metadata": {},
   "source": [
    "你能发现一些东西吗?"
   ]
  },
  {
   "cell_type": "markdown",
   "metadata": {},
   "source": [
    "先加一个 简单例子 把这些例子变复杂"
   ]
  },
  {
   "cell_type": "markdown",
   "metadata": {},
   "source": [
    "1. 我们把人输入的内容先保存起来\n",
    "2. 再把保存的东西输出出来\n"
   ]
  },
  {
   "cell_type": "markdown",
   "metadata": {},
   "source": [
    "这个暂时保存的东西叫 **变量**  \n",
    "= 是**赋值**的意思，完全不同于数学里面的等号"
   ]
  },
  {
   "cell_type": "markdown",
   "metadata": {},
   "source": [
    "上面代码是一个很'鸡贼'的代码，不用担心，慢慢来理解"
   ]
  },
  {
   "cell_type": "markdown",
   "metadata": {},
   "source": [
    "来实现 输入两个数来得到计算"
   ]
  },
  {
   "cell_type": "code",
   "execution_count": 22,
   "metadata": {},
   "outputs": [
    {
     "ename": "TypeError",
     "evalue": "can't multiply sequence by non-int of type 'str'",
     "output_type": "error",
     "traceback": [
      "\u001b[0;31m---------------------------------------------------------------------------\u001b[0m",
      "\u001b[0;31mTypeError\u001b[0m                                 Traceback (most recent call last)",
      "\u001b[0;32m<ipython-input-22-043ad08314ca>\u001b[0m in \u001b[0;36m<module>\u001b[0;34m\u001b[0m\n\u001b[1;32m      1\u001b[0m \u001b[0ma\u001b[0m \u001b[0;34m=\u001b[0m \u001b[0minput\u001b[0m\u001b[0;34m(\u001b[0m\u001b[0;34m)\u001b[0m\u001b[0;34m\u001b[0m\u001b[0;34m\u001b[0m\u001b[0m\n\u001b[1;32m      2\u001b[0m \u001b[0mb\u001b[0m \u001b[0;34m=\u001b[0m \u001b[0minput\u001b[0m\u001b[0;34m(\u001b[0m\u001b[0;34m)\u001b[0m\u001b[0;34m\u001b[0m\u001b[0;34m\u001b[0m\u001b[0m\n\u001b[0;32m----> 3\u001b[0;31m \u001b[0ma\u001b[0m \u001b[0;34m*\u001b[0m \u001b[0mb\u001b[0m\u001b[0;34m\u001b[0m\u001b[0;34m\u001b[0m\u001b[0m\n\u001b[0m",
      "\u001b[0;31mTypeError\u001b[0m: can't multiply sequence by non-int of type 'str'"
     ]
    }
   ],
   "source": [
    "number1 = input()\n",
    "number2 = input()\n",
    "number1 * number2"
   ]
  },
  {
   "cell_type": "markdown",
   "metadata": {},
   "source": [
    "来看一下错误 别怕"
   ]
  },
  {
   "cell_type": "markdown",
   "metadata": {},
   "source": [
    "can't multiply sequence by non-int of type 'str'  \n",
    "类型为str的不能相乘"
   ]
  },
  {
   "cell_type": "markdown",
   "metadata": {},
   "source": [
    "所以这就涉及到了 **变量类型**  概念"
   ]
  },
  {
   "cell_type": "markdown",
   "metadata": {},
   "source": [
    "我们可以使用 `type()` 来查看一个变量的类型"
   ]
  },
  {
   "cell_type": "code",
   "execution_count": 26,
   "metadata": {},
   "outputs": [
    {
     "data": {
      "text/plain": [
       "int"
      ]
     },
     "execution_count": 26,
     "metadata": {},
     "output_type": "execute_result"
    }
   ],
   "source": [
    "num_int = 5\n",
    "type(num_int)"
   ]
  },
  {
   "cell_type": "code",
   "execution_count": 27,
   "metadata": {},
   "outputs": [
    {
     "data": {
      "text/plain": [
       "float"
      ]
     },
     "execution_count": 27,
     "metadata": {},
     "output_type": "execute_result"
    }
   ],
   "source": [
    "num_float = 1.2\n",
    "type(num_float)"
   ]
  },
  {
   "cell_type": "code",
   "execution_count": 28,
   "metadata": {},
   "outputs": [
    {
     "data": {
      "text/plain": [
       "str"
      ]
     },
     "execution_count": 28,
     "metadata": {},
     "output_type": "execute_result"
    }
   ],
   "source": [
    "words = '我爱中国'\n",
    "type(words)"
   ]
  },
  {
   "cell_type": "code",
   "execution_count": 30,
   "metadata": {},
   "outputs": [
    {
     "data": {
      "text/plain": [
       "str"
      ]
     },
     "execution_count": 30,
     "metadata": {},
     "output_type": "execute_result"
    }
   ],
   "source": [
    "string = \"我爱中国\"\n",
    "type(string)"
   ]
  },
  {
   "cell_type": "markdown",
   "metadata": {},
   "source": [
    "python中的变量有哪些呢？\n",
    "- 整数 int \n",
    "- 浮点数 float\n",
    "- 字符串 str\n",
    "- 布尔 bool"
   ]
  },
  {
   "cell_type": "code",
   "execution_count": 84,
   "metadata": {},
   "outputs": [
    {
     "data": {
      "text/plain": [
       "6"
      ]
     },
     "execution_count": 84,
     "metadata": {},
     "output_type": "execute_result"
    }
   ],
   "source": [
    "str_num1 = input()\n",
    "num1 = int(str_num1)\n",
    "str_num2 = input()\n",
    "num2 = int(str_num2)\n",
    "num1*num2"
   ]
  },
  {
   "cell_type": "markdown",
   "metadata": {},
   "source": [
    "把这里的代入思想讲一下"
   ]
  },
  {
   "cell_type": "code",
   "execution_count": 85,
   "metadata": {},
   "outputs": [
    {
     "data": {
      "text/plain": [
       "6"
      ]
     },
     "execution_count": 85,
     "metadata": {},
     "output_type": "execute_result"
    }
   ],
   "source": [
    "num1 = int(input())\n",
    "num2 = int(input())\n",
    "num1*num2"
   ]
  },
  {
   "cell_type": "markdown",
   "metadata": {},
   "source": [
    "那就试着改成小数相乘"
   ]
  },
  {
   "cell_type": "code",
   "execution_count": 86,
   "metadata": {},
   "outputs": [
    {
     "data": {
      "text/plain": [
       "2.52"
      ]
     },
     "execution_count": 86,
     "metadata": {},
     "output_type": "execute_result"
    }
   ],
   "source": [
    "num1 = float(input())\n",
    "num2 = float(input())\n",
    "num1*num2"
   ]
  },
  {
   "cell_type": "markdown",
   "metadata": {},
   "source": [
    "我们再来看字符串的操作"
   ]
  },
  {
   "cell_type": "code",
   "execution_count": 38,
   "metadata": {},
   "outputs": [
    {
     "name": "stdout",
     "output_type": "stream",
     "text": [
      "请输入姓名\n",
      "xiaoming,你好！\n"
     ]
    }
   ],
   "source": [
    "print('请输入姓名')\n",
    "name = input()\n",
    "print(name+',你好！')"
   ]
  },
  {
   "cell_type": "code",
   "execution_count": 39,
   "metadata": {},
   "outputs": [
    {
     "data": {
      "text/plain": [
       "'xiaoming,你好！'"
      ]
     },
     "execution_count": 39,
     "metadata": {},
     "output_type": "execute_result"
    }
   ],
   "source": [
    "'xiaoming' + ',你好！'"
   ]
  },
  {
   "cell_type": "code",
   "execution_count": 42,
   "metadata": {},
   "outputs": [
    {
     "data": {
      "text/plain": [
       "'xiaomingxiaomingxiaomingxiaoming'"
      ]
     },
     "execution_count": 42,
     "metadata": {},
     "output_type": "execute_result"
    }
   ],
   "source": [
    "'xiaoming' * 4"
   ]
  },
  {
   "cell_type": "code",
   "execution_count": 43,
   "metadata": {},
   "outputs": [
    {
     "name": "stdout",
     "output_type": "stream",
     "text": [
      "请输入姓名：\n",
      "请选择重复几次：\n",
      "jackjackjack,你好！\n"
     ]
    }
   ],
   "source": [
    "print('请输入姓名：')\n",
    "name = input()\n",
    "print('请选择重复几次：')\n",
    "times = int(input())\n",
    "print(name * times + ',你好！')"
   ]
  },
  {
   "cell_type": "markdown",
   "metadata": {},
   "source": [
    "这里就有python 动态语言的一个特性，运算符会根据变量不同，有不同的效果"
   ]
  },
  {
   "cell_type": "markdown",
   "metadata": {},
   "source": [
    "print() 与 转义字符串 "
   ]
  },
  {
   "cell_type": "markdown",
   "metadata": {},
   "source": [
    "还记得之前提到的 多行代码 \\ 来试下效果"
   ]
  },
  {
   "cell_type": "code",
   "execution_count": 87,
   "metadata": {},
   "outputs": [
    {
     "name": "stdout",
     "output_type": "stream",
     "text": [
      "甲：吃饭吗？乙：走，吃饭去！\n"
     ]
    }
   ],
   "source": [
    "print('甲：吃饭吗？\\\n",
    "乙：走，吃饭去！')"
   ]
  },
  {
   "cell_type": "markdown",
   "metadata": {},
   "source": [
    "那么要想打印  \n",
    "``` python\n",
    "甲：吃饭去吗？\n",
    "乙：走，吃饭去！ \n",
    "```\n",
    "改怎么办？"
   ]
  },
  {
   "cell_type": "markdown",
   "metadata": {},
   "source": [
    "一种办法是使用转移字符串"
   ]
  },
  {
   "cell_type": "code",
   "execution_count": 89,
   "metadata": {},
   "outputs": [
    {
     "name": "stdout",
     "output_type": "stream",
     "text": [
      "甲：吃饭吗?\n",
      "乙：走，吃饭去！\n"
     ]
    }
   ],
   "source": [
    "print('甲：吃饭吗?\\n乙：走，吃饭去！')"
   ]
  },
  {
   "cell_type": "markdown",
   "metadata": {},
   "source": [
    "python中常见的转义字符  \n",
    "\n",
    "|转义字符|描述|\n",
    "|--|--|\n",
    "|`\\`(行尾)|续行|\n",
    "|`\\\\`| 反斜杠`\\`|\n",
    "|`\\\"`|双引号`\"`|\n",
    "|`\\'`|单引号`'`|\n",
    "|`\\n`|换行|\n",
    "|`\\t`|制表符(横向)|"
   ]
  },
  {
   "cell_type": "markdown",
   "metadata": {},
   "source": [
    "另一种方法是使用 \"\"\" \"\"\"  或 ''' '''"
   ]
  },
  {
   "cell_type": "code",
   "execution_count": 90,
   "metadata": {},
   "outputs": [
    {
     "name": "stdout",
     "output_type": "stream",
     "text": [
      "甲：吃饭吗？\n",
      "乙：走，吃饭去！\n"
     ]
    }
   ],
   "source": [
    "print('''甲：吃饭吗？\n",
    "乙：走，吃饭去！''')"
   ]
  },
  {
   "cell_type": "markdown",
   "metadata": {},
   "source": [
    "我们来打印一个皮卡丘！"
   ]
  },
  {
   "cell_type": "code",
   "execution_count": 79,
   "metadata": {},
   "outputs": [
    {
     "name": "stdout",
     "output_type": "stream",
     "text": [
      "\n",
      "　　 へ　　　　　／|\n",
      "　　/＼7　　　 ∠＿/\n",
      "　 /　│　　 ／　／\n",
      "　│　Z ＿,＜　／　　  /`ヽ\n",
      "　│　　　　　ヽ　　  /　　〉\n",
      "　 Y　　　　　`　  /　　/\n",
      "　ｲ●　､　●　⊂⊃  〈　　/\n",
      "　() へ　　 　|　  ＼〈\n",
      "　　>ｰ ､_　 ィ　│  ／／\n",
      "　 / へ　　 /　ﾉ＜| ＼＼\n",
      "　 ヽ_ﾉ　　(_／　│ ／／\n",
      "　　7　　　　　　|／\n",
      "　　＞―r￣￣`ｰ―＿\n"
     ]
    }
   ],
   "source": [
    "# -*- coding:utf-8 -*-\n",
    "print('''\n",
    "　　 へ　　　　　／|\n",
    "　　/＼7　　　 ∠＿/\n",
    "　 /　│　　 ／　／\n",
    "　│　Z ＿,＜　／　　  /`ヽ\n",
    "　│　　　　　ヽ　　  /　　〉\n",
    "　 Y　　　　　`　  /　　/\n",
    "　ｲ●　､　●　⊂⊃  〈　　/\n",
    "　() へ　　 　|　  ＼〈\n",
    "　　>ｰ ､_　 ィ　│  ／／\n",
    "　 / へ　　 /　ﾉ＜| ＼＼\n",
    "　 ヽ_ﾉ　　(_／　│ ／／\n",
    "　　7　　　　　　|／\n",
    "　　＞―r￣￣`ｰ―＿''')"
   ]
  },
  {
   "cell_type": "markdown",
   "metadata": {},
   "source": [
    "变量名称，称为标识符，有一定的语法规范：\n",
    "\n",
    "- 第一个字符必须是字符或下划线 _ \n",
    "- 剩下的字符可以是字母，数字或下划线 _\n",
    "- 大小写敏感"
   ]
  },
  {
   "cell_type": "markdown",
   "metadata": {},
   "source": [
    "python 关键字"
   ]
  },
  {
   "cell_type": "code",
   "execution_count": 49,
   "metadata": {},
   "outputs": [
    {
     "name": "stdout",
     "output_type": "stream",
     "text": [
      "python 关键字:\n",
      "\n",
      "Here is a list of the Python keywords.  Enter any keyword to get more help.\n",
      "\n",
      "False               def                 if                  raise\n",
      "None                del                 import              return\n",
      "True                elif                in                  try\n",
      "and                 else                is                  while\n",
      "as                  except              lambda              with\n",
      "assert              finally             nonlocal            yield\n",
      "break               for                 not                 \n",
      "class               from                or                  \n",
      "continue            global              pass                \n",
      "\n"
     ]
    }
   ],
   "source": [
    "print('python 关键字:')\n",
    "help('keywords')"
   ]
  },
  {
   "cell_type": "markdown",
   "metadata": {},
   "source": [
    "### 表达式与运算符"
   ]
  },
  {
   "cell_type": "code",
   "execution_count": 50,
   "metadata": {},
   "outputs": [
    {
     "data": {
      "text/plain": [
       "2"
      ]
     },
     "execution_count": 50,
     "metadata": {},
     "output_type": "execute_result"
    }
   ],
   "source": [
    "5 // 2"
   ]
  },
  {
   "cell_type": "code",
   "execution_count": 51,
   "metadata": {},
   "outputs": [
    {
     "data": {
      "text/plain": [
       "1"
      ]
     },
     "execution_count": 51,
     "metadata": {},
     "output_type": "execute_result"
    }
   ],
   "source": [
    "5 % 2"
   ]
  },
  {
   "cell_type": "code",
   "execution_count": 58,
   "metadata": {},
   "outputs": [
    {
     "data": {
      "text/plain": [
       "25"
      ]
     },
     "execution_count": 58,
     "metadata": {},
     "output_type": "execute_result"
    }
   ],
   "source": [
    "5 ** 2"
   ]
  },
  {
   "cell_type": "markdown",
   "metadata": {},
   "source": [
    "先来看 布尔类型  \n",
    "\n",
    "bool 只有True 和 False  \n",
    "\n",
    "可以用0 1来表示，而且一般情况下，非0数值表示True"
   ]
  },
  {
   "cell_type": "code",
   "execution_count": 91,
   "metadata": {},
   "outputs": [
    {
     "name": "stdout",
     "output_type": "stream",
     "text": [
      "True\n"
     ]
    }
   ],
   "source": [
    "three_is_number = True\n",
    "print(three_is_number)"
   ]
  },
  {
   "cell_type": "code",
   "execution_count": 53,
   "metadata": {},
   "outputs": [
    {
     "data": {
      "text/plain": [
       "True"
      ]
     },
     "execution_count": 53,
     "metadata": {},
     "output_type": "execute_result"
    }
   ],
   "source": [
    "bool(1)"
   ]
  },
  {
   "cell_type": "code",
   "execution_count": 54,
   "metadata": {},
   "outputs": [
    {
     "data": {
      "text/plain": [
       "True"
      ]
     },
     "execution_count": 54,
     "metadata": {},
     "output_type": "execute_result"
    }
   ],
   "source": [
    "bool(2)"
   ]
  },
  {
   "cell_type": "code",
   "execution_count": 55,
   "metadata": {},
   "outputs": [
    {
     "data": {
      "text/plain": [
       "False"
      ]
     },
     "execution_count": 55,
     "metadata": {},
     "output_type": "execute_result"
    }
   ],
   "source": [
    "bool(0)"
   ]
  },
  {
   "cell_type": "markdown",
   "metadata": {},
   "source": [
    "#### 逻辑运算符\n",
    "and  or  not"
   ]
  },
  {
   "cell_type": "code",
   "execution_count": 92,
   "metadata": {},
   "outputs": [
    {
     "data": {
      "text/plain": [
       "False"
      ]
     },
     "execution_count": 92,
     "metadata": {},
     "output_type": "execute_result"
    }
   ],
   "source": [
    "three_is_number = True\n",
    "tree_is_number = False\n",
    "three_is_number and tree_is_number # or a"
   ]
  },
  {
   "cell_type": "markdown",
   "metadata": {},
   "source": [
    "#### 比较运算符\n",
    "自己尝试一下"
   ]
  },
  {
   "cell_type": "code",
   "execution_count": 61,
   "metadata": {},
   "outputs": [
    {
     "name": "stdout",
     "output_type": "stream",
     "text": [
      "1 - a 不等于 b\n",
      "2 - a 不等于 b\n",
      "4 - a 大于等于 b\n",
      "5 - a 大于 b\n",
      "6 - a 小于等于 b\n",
      "7 - b 大于等于 a\n"
     ]
    }
   ],
   "source": [
    "#!/usr/bin/python\n",
    "# -*- coding: UTF-8 -*-\n",
    " \n",
    "a = 21\n",
    "b = 10\n",
    "c = 0\n",
    " \n",
    "if  a == b :\n",
    "   print(\"1 - a 等于 b\")\n",
    "else:\n",
    "   print(\"1 - a 不等于 b\")\n",
    " \n",
    "if  a != b :\n",
    "   print(\"2 - a 不等于 b\")\n",
    "else:\n",
    "   print(\"2 - a 等于 b\")\n",
    " \n",
    "if  a < b :\n",
    "   print(\"4 - a 小于 b\")\n",
    "else:\n",
    "   print(\"4 - a 大于等于 b\")\n",
    " \n",
    "if  a > b :\n",
    "   print(\"5 - a 大于 b\")\n",
    "else:\n",
    "   print(\"5 - a 小于等于 b\")\n",
    " \n",
    "# 修改变量 a 和 b 的值\n",
    "a = 5\n",
    "b = 20\n",
    "if  a <= b :\n",
    "   print(\"6 - a 小于等于 b\")\n",
    "else:\n",
    "   print(\"6 - a 大于  b\")\n",
    " \n",
    "if  b >= a :\n",
    "   print(\"7 - b 大于等于 a\")\n",
    "else:\n",
    "   print(\"7 - b 小于 a\")"
   ]
  },
  {
   "cell_type": "markdown",
   "metadata": {},
   "source": [
    "#### 赋值运算符"
   ]
  },
  {
   "cell_type": "markdown",
   "metadata": {},
   "source": [
    "= += -= *= /= %= **= //="
   ]
  },
  {
   "cell_type": "code",
   "execution_count": 93,
   "metadata": {},
   "outputs": [
    {
     "name": "stdout",
     "output_type": "stream",
     "text": [
      "8\n"
     ]
    }
   ],
   "source": [
    "num = 5\n",
    "num += 3\n",
    "print(num)"
   ]
  },
  {
   "cell_type": "code",
   "execution_count": 94,
   "metadata": {},
   "outputs": [
    {
     "name": "stdout",
     "output_type": "stream",
     "text": [
      "8\n"
     ]
    }
   ],
   "source": [
    "num = 2\n",
    "num **= 3\n",
    "print(num)"
   ]
  },
  {
   "cell_type": "markdown",
   "metadata": {},
   "source": [
    "#### 请回答"
   ]
  },
  {
   "cell_type": "markdown",
   "metadata": {},
   "source": [
    "下面的运算结果\n",
    "- 2 // 3 and 1\n",
    "- 10%4==3 or (True-False)"
   ]
  }
 ],
 "metadata": {
  "kernelspec": {
   "display_name": "ml",
   "language": "python",
   "name": "ml"
  },
  "language_info": {
   "codemirror_mode": {
    "name": "ipython",
    "version": 3
   },
   "file_extension": ".py",
   "mimetype": "text/x-python",
   "name": "python",
   "nbconvert_exporter": "python",
   "pygments_lexer": "ipython3",
   "version": "3.6.9"
  }
 },
 "nbformat": 4,
 "nbformat_minor": 2
}
