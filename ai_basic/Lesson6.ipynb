{
 "cells": [
  {
   "cell_type": "markdown",
   "metadata": {},
   "source": [
    "# 上周作业"
   ]
  },
  {
   "cell_type": "markdown",
   "metadata": {},
   "source": [
    "**理论部分**\n",
    "1. 验证多重继承的属性规则，请选择\n",
    "- 就近原则\n",
    "- 随机原则\n",
    "- 类定义的先后原则"
   ]
  },
  {
   "cell_type": "code",
   "execution_count": 1,
   "metadata": {},
   "outputs": [
    {
     "name": "stdout",
     "output_type": "stream",
     "text": [
      "A0\n",
      "1\n"
     ]
    }
   ],
   "source": [
    "class A0:\n",
    "    name = 'A0'\n",
    "    \n",
    "class A2(A0):\n",
    "    num = 2\n",
    "    \n",
    "class A1:\n",
    "    num = 1\n",
    "    \n",
    "class A3:\n",
    "    name = 'A3'\n",
    "    \n",
    "class A4(A1,A2,A3):\n",
    "    pass\n",
    " \n",
    "ins = A4()\n",
    "print(ins.name) # \n",
    "print(ins.num) # "
   ]
  },
  {
   "cell_type": "markdown",
   "metadata": {},
   "source": [
    "1. 完成ATM的类实现  \n",
    "将第二次课程的ATM机器改写成类实现"
   ]
  },
  {
   "cell_type": "markdown",
   "metadata": {},
   "source": [
    "2. 练习会先提供一个李靖类，用以记录人物角色的战斗力。需要你创建一个子类哪吒类，提供属性和参数的修改。  \n",
    "要求： 在哪吒的初始化方法中，默认添加`['混天绫', '乾坤圈']` 两个装备,以及初始化战斗力为50."
   ]
  },
  {
   "cell_type": "code",
   "execution_count": 4,
   "metadata": {},
   "outputs": [
    {
     "name": "stdout",
     "output_type": "stream",
     "text": [
      "[]\n",
      "['混天绫', '乾坤圈']\n",
      "['七宝玲珑塔']\n",
      "60\n",
      "['混天绫', '乾坤圈', '火尖枪']\n",
      "90\n"
     ]
    }
   ],
   "source": [
    "# 作业答案\n",
    "class Lijing: # 李靖\n",
    "    # 初始化函数，为每个实例创建4个参数（其中后3个参数有默认值）\n",
    "    def __init__(self, name, weapons=[], power=10): \n",
    "        self.name = name\n",
    "        self.weapons = weapons\n",
    "        self.power = power\n",
    "\n",
    "    def count_fight(self, weapon, weapon_power):\n",
    "        self.weapons.append(weapon)\n",
    "        self.power += weapon_power  # 总战力=武器战力之和\n",
    "        \n",
    "# your code here        \n",
    "# 请你完成子类的定制（包括初始化方法和count_fight函数）\n",
    "class Nezha(Lijing): # 哪吒\n",
    "    def __init__(self, name, weapons=['混天绫', '乾坤圈'], power=50):\n",
    "        super(Nezha, self).__init__(name, weapons=weapons, power=power)\n",
    "        \n",
    "    def conunt_fight(self, weapon, weapon_power):\n",
    "        Lijing.count_fight(self, weapon, weapon_power)\n",
    "    \n",
    "# 通过两个实例，完成子类和父类的对比（可自行验证）\n",
    "lijing = Lijing('李靖')\n",
    "nezha = Nezha('哪吒')\n",
    "print(lijing.weapons)\n",
    "print(nezha.weapons)\n",
    "lijing.count_fight('七宝玲珑塔', 50)  # 七宝玲珑塔 战力 50\n",
    "print(lijing.weapons)\n",
    "print(lijing.power)\n",
    "nezha.count_fight('火尖枪', 40)  # 七宝玲珑塔 战力 50\n",
    "print(nezha.weapons)\n",
    "print(nezha.power)"
   ]
  },
  {
   "cell_type": "markdown",
   "metadata": {},
   "source": [
    "super()讲解"
   ]
  },
  {
   "cell_type": "code",
   "execution_count": 5,
   "metadata": {},
   "outputs": [
    {
     "name": "stdout",
     "output_type": "stream",
     "text": [
      "Help on class super in module builtins:\n",
      "\n",
      "class super(object)\n",
      " |  super() -> same as super(__class__, <first argument>)\n",
      " |  super(type) -> unbound super object\n",
      " |  super(type, obj) -> bound super object; requires isinstance(obj, type)\n",
      " |  super(type, type2) -> bound super object; requires issubclass(type2, type)\n",
      " |  Typical use to call a cooperative superclass method:\n",
      " |  class C(B):\n",
      " |      def meth(self, arg):\n",
      " |          super().meth(arg)\n",
      " |  This works for class methods too:\n",
      " |  class C(B):\n",
      " |      @classmethod\n",
      " |      def cmeth(cls, arg):\n",
      " |          super().cmeth(arg)\n",
      " |  \n",
      " |  Methods defined here:\n",
      " |  \n",
      " |  __get__(self, instance, owner, /)\n",
      " |      Return an attribute of instance, which is of type owner.\n",
      " |  \n",
      " |  __getattribute__(self, name, /)\n",
      " |      Return getattr(self, name).\n",
      " |  \n",
      " |  __init__(self, /, *args, **kwargs)\n",
      " |      Initialize self.  See help(type(self)) for accurate signature.\n",
      " |  \n",
      " |  __new__(*args, **kwargs) from builtins.type\n",
      " |      Create and return a new object.  See help(type) for accurate signature.\n",
      " |  \n",
      " |  __repr__(self, /)\n",
      " |      Return repr(self).\n",
      " |  \n",
      " |  ----------------------------------------------------------------------\n",
      " |  Data descriptors defined here:\n",
      " |  \n",
      " |  __self__\n",
      " |      the instance invoking super(); may be None\n",
      " |  \n",
      " |  __self_class__\n",
      " |      the type of the instance invoking super(); may be None\n",
      " |  \n",
      " |  __thisclass__\n",
      " |      the class invoking super()\n",
      "\n"
     ]
    }
   ],
   "source": [
    "\"\"\"\n",
    "super(type,obj)\n",
    "super(type,obj).method\n",
    "\"\"\"\n",
    "help(super)"
   ]
  },
  {
   "cell_type": "markdown",
   "metadata": {},
   "source": [
    "初始化中的方法中初始值无法继承"
   ]
  },
  {
   "cell_type": "code",
   "execution_count": 14,
   "metadata": {},
   "outputs": [
    {
     "ename": "AttributeError",
     "evalue": "'Nezha' object has no attribute 'home'",
     "output_type": "error",
     "traceback": [
      "\u001b[0;31m---------------------------------------------------------------------------\u001b[0m",
      "\u001b[0;31mAttributeError\u001b[0m                            Traceback (most recent call last)",
      "\u001b[0;32m<ipython-input-14-e5ace2ad364e>\u001b[0m in \u001b[0;36m<module>\u001b[0;34m\u001b[0m\n\u001b[1;32m     11\u001b[0m \u001b[0;34m\u001b[0m\u001b[0m\n\u001b[1;32m     12\u001b[0m \u001b[0mnezha\u001b[0m \u001b[0;34m=\u001b[0m \u001b[0mNezha\u001b[0m\u001b[0;34m(\u001b[0m\u001b[0;34m'哪吒'\u001b[0m\u001b[0;34m)\u001b[0m\u001b[0;34m\u001b[0m\u001b[0;34m\u001b[0m\u001b[0m\n\u001b[0;32m---> 13\u001b[0;31m \u001b[0mnezha\u001b[0m\u001b[0;34m.\u001b[0m\u001b[0mhome\u001b[0m\u001b[0;34m,\u001b[0m\u001b[0mnezha\u001b[0m\u001b[0;34m.\u001b[0m\u001b[0mname\u001b[0m\u001b[0;34m\u001b[0m\u001b[0;34m\u001b[0m\u001b[0m\n\u001b[0m",
      "\u001b[0;31mAttributeError\u001b[0m: 'Nezha' object has no attribute 'home'"
     ]
    }
   ],
   "source": [
    "class Lijing: # 李靖# 初始化函数，为每个实例创建4个参数（其中后3个参数有默认值）\n",
    "    def __init__(self, name, weapons=[], power=10): \n",
    "        self.home = '陈唐官'\n",
    "        self.name = name\n",
    "        self.weapons = weapons\n",
    "        self.power = power\n",
    "        \n",
    "class Nezha(Lijing): # 哪吒\n",
    "    def __init__(self, name, weapons=['混天绫', '乾坤圈'], power=50):\n",
    "        pass\n",
    "    \n",
    "nezha = Nezha('哪吒')\n",
    "nezha.home,nezha.name"
   ]
  },
  {
   "cell_type": "code",
   "execution_count": 9,
   "metadata": {},
   "outputs": [
    {
     "data": {
      "text/plain": [
       "'陈唐官'"
      ]
     },
     "execution_count": 9,
     "metadata": {},
     "output_type": "execute_result"
    }
   ],
   "source": [
    "# 解决方式：  \n",
    "# 调用未绑定父类的初始化方法（不常用）\n",
    "class Lijing: # 李靖# 初始化函数，为每个实例创建4个参数（其中后3个参数有默认值）\n",
    "    def __init__(self, name, weapons=[], power=10): \n",
    "        self.home = '陈唐官'\n",
    "        self.name = name\n",
    "        self.weapons = weapons\n",
    "        self.power = power\n",
    "        \n",
    "class Nezha(Lijing): # 哪吒\n",
    "    def __init__(self, name, weapons=['混天绫', '乾坤圈'], power=50):\n",
    "        Lijing.__init__(self, name)\n",
    "    \n",
    "nezha = Nezha('哪吒')\n",
    "nezha.home"
   ]
  },
  {
   "cell_type": "code",
   "execution_count": 10,
   "metadata": {},
   "outputs": [
    {
     "data": {
      "text/plain": [
       "'陈唐官'"
      ]
     },
     "execution_count": 10,
     "metadata": {},
     "output_type": "execute_result"
    }
   ],
   "source": [
    "# 推荐方法 使用super\n",
    "# 固定格式 super(type, self) \n",
    "\n",
    "class Lijing: # 李靖\n",
    "    def __init__(self, name, weapons=[], power=10): \n",
    "        self.home = '陈唐官'\n",
    "        self.name = name\n",
    "        self.weapons = weapons\n",
    "        self.power = power\n",
    "        \n",
    "class Nezha(Lijing): # 哪吒\n",
    "    def __init__(self, name, weapons=['混天绫', '乾坤圈'], power=50):\n",
    "        super(Nezha, self).__init__(name)\n",
    "    \n",
    "nezha = Nezha('哪吒')\n",
    "nezha.home"
   ]
  },
  {
   "cell_type": "markdown",
   "metadata": {},
   "source": [
    "所以super使用常见两种方式\n",
    "- `spuer().method`\n",
    "- 初始化方法中的`super(type,self).__init__(args)`"
   ]
  },
  {
   "cell_type": "markdown",
   "metadata": {
    "toc-hr-collapsed": false
   },
   "source": [
    "# 函数进阶：面向函数的编程"
   ]
  },
  {
   "cell_type": "markdown",
   "metadata": {},
   "source": [
    "## 格式化输出"
   ]
  },
  {
   "cell_type": "markdown",
   "metadata": {},
   "source": [
    "[参考博文](https://juejin.im/post/5cfe7e74e51d45106172109c)"
   ]
  },
  {
   "cell_type": "markdown",
   "metadata": {},
   "source": [
    "python 2.6之前支持`%`输出  \n",
    "python 2.6新增了`str.format`，使格式化功能更加强大"
   ]
  },
  {
   "cell_type": "code",
   "execution_count": 3,
   "metadata": {},
   "outputs": [
    {
     "data": {
      "text/plain": [
       "'[3, 4] [1, 2]'"
      ]
     },
     "execution_count": 3,
     "metadata": {},
     "output_type": "execute_result"
    }
   ],
   "source": [
    "'{1} {0}'.format('abc', 123)  # 可以不按顺序进行位置映射，输出'123 abc'\n",
    "\n",
    "'{} {}'.format('abc', 123)  # 可以不指定参数名称，输出'abc 123'\n",
    "\n",
    "'{1} {0} {1}'.format('abc', 123)  # 参数可以使用多次，输出'123 abc 123'\n",
    "\n",
    "'{name} {age}'.format(name='tom', age=27)  # 可以按关键字映射，输出'tom 27'\n",
    "\n",
    "class person:\n",
    "    name = 1\n",
    "    age = 2\n",
    "'{person.name} {person.age}'.format(person=person)  # 可以按对象属性映射，输出'tom 27'\n",
    "\n",
    "lst = [[1,2],[3,4]]\n",
    "'{0[1]} {0[0]}'.format(lst)  # 通过下标映射"
   ]
  },
  {
   "cell_type": "markdown",
   "metadata": {},
   "source": [
    "**数字格式化**\n",
    "\n",
    "<table class=\"reference\">\n",
    "<tbody><tr><th width=\"10%\">数字</th><th width=\"30%\">格式</th><th width=\"30%\">输出\n",
    "</th><th width=\"30%\">描述</th></tr>\n",
    "<tr><td> 3.1415926 </td>\n",
    "    <td> {:.2f} </td>\n",
    "    <td> 3.14 </td>\n",
    "    <td> 保留小数点后两位 </td>\n",
    "</tr>\n",
    "<tr><td> 3.1415926 </td>\n",
    "    <td> {:+.2f} </td>\n",
    "    <td> +3.14 </td>\n",
    "    <td> 带符号保留小数点后两位 </td>\n",
    "</tr>\n",
    "<tr><td> -1 </td>\n",
    "    <td> {:+.2f} </td>\n",
    "    <td> -1.00 </td>\n",
    "    <td> 带符号保留小数点后两位 </td>\n",
    "</tr>\n",
    "<tr><td> 2.71828 </td>\n",
    "    <td> {:.0f} </td>\n",
    "    <td> 3 </td>\n",
    "    <td> 不带小数 </td>\n",
    "</tr>\n",
    "<tr><td> 5 </td>\n",
    "    <td> {:0&gt;2d} </td>\n",
    "    <td> 05 </td>\n",
    "    <td> 数字补零 (填充左边, 宽度为2) </td>\n",
    "</tr>\n",
    "<tr><td> 5 </td>\n",
    "    <td> {:x&lt;4d} </td>\n",
    "    <td> 5xxx </td>\n",
    "    <td> 数字补x (填充右边, 宽度为4) </td>\n",
    "</tr>\n",
    "<tr><td> 10 </td>\n",
    "    <td> {:x&lt;4d} </td>\n",
    "    <td> 10xx </td>\n",
    "    <td> 数字补x (填充右边, 宽度为4) </td>\n",
    "</tr>\n",
    "<tr><td> 1000000 </td>\n",
    "    <td> {:,} </td>\n",
    "    <td> 1,000,000 </td>\n",
    "    <td> 以逗号分隔的数字格式 </td>\n",
    "</tr>\n",
    "<tr><td> 0.25 </td>\n",
    "    <td> {:.2%} </td>\n",
    "    <td> 25.00% </td>\n",
    "    <td> 百分比格式 </td>\n",
    "</tr>\n",
    "<tr><td> 1000000000 </td>\n",
    "    <td> {:.2e} </td>\n",
    "    <td> 1.00e+09 </td>\n",
    "    <td> 指数记法 </td>\n",
    "</tr>\n",
    "<tr><td> 13 </td>\n",
    "    <td> {:&gt;10d} </td>\n",
    "    <td>&nbsp;&nbsp;&nbsp;&nbsp;&nbsp;&nbsp;&nbsp;&nbsp;13</td>\n",
    "    <td> 右对齐 (默认, 宽度为10) </td>\n",
    "</tr>\n",
    "<tr><td> 13 </td>\n",
    "    <td> {:&lt;10d} </td>\n",
    "    <td> 13 </td>\n",
    "    <td> 左对齐 (宽度为10)</td>\n",
    "</tr>\n",
    "<tr><td> 13 </td>\n",
    "    <td> {:^10d} </td>\n",
    "    <td> &nbsp;&nbsp;&nbsp;&nbsp;13 </td>\n",
    "    <td> 中间对齐 (宽度为10) </td>\n",
    "</tr>\n",
    "<tr><td> 11 </td>\n",
    "    <td><pre class=\"prettyprint prettyprinted\" style=\"\"><span class=\"str\">'{:b}'</span><span class=\"pun\">.</span><span class=\"pln\">format</span><span class=\"pun\">(</span><span class=\"lit\">11</span><span class=\"pun\">)</span><span class=\"pln\">\n",
    "</span><span class=\"str\">'{:d}'</span><span class=\"pun\">.</span><span class=\"pln\">format</span><span class=\"pun\">(</span><span class=\"lit\">11</span><span class=\"pun\">)</span><span class=\"pln\">\n",
    "</span><span class=\"str\">'{:o}'</span><span class=\"pun\">.</span><span class=\"pln\">format</span><span class=\"pun\">(</span><span class=\"lit\">11</span><span class=\"pun\">)</span><span class=\"pln\">\n",
    "</span><span class=\"str\">'{:x}'</span><span class=\"pun\">.</span><span class=\"pln\">format</span><span class=\"pun\">(</span><span class=\"lit\">11</span><span class=\"pun\">)</span><span class=\"pln\">\n",
    "</span><span class=\"str\">'{:#x}'</span><span class=\"pun\">.</span><span class=\"pln\">format</span><span class=\"pun\">(</span><span class=\"lit\">11</span><span class=\"pun\">)</span><span class=\"pln\">\n",
    "</span><span class=\"str\">'{:#X}'</span><span class=\"pun\">.</span><span class=\"pln\">format</span><span class=\"pun\">(</span><span class=\"lit\">11</span><span class=\"pun\">)</span></pre></td>\n",
    "    <td><pre class=\"prettyprint prettyprinted\" style=\"\"><span class=\"lit\">1011</span><span class=\"pln\">\n",
    "</span><span class=\"lit\">11</span><span class=\"pln\">\n",
    "</span><span class=\"lit\">13</span><span class=\"pln\">\n",
    "b\n",
    "</span><span class=\"lit\">0xb</span><span class=\"pln\">\n",
    "</span><span class=\"lit\">0XB</span></pre></td>\n",
    "    <td> 进制</td>\n",
    "</tr>\n",
    "</tbody></table>\n",
    "\n",
    "\n",
    "\n",
    "`^`, `<`, `>` 分别是居中、左对齐、右对齐，后面带宽度， `:` 号后面带填充的字符，只能是一个字符，不指定则默认是用空格填充。\n",
    "\n",
    "`+` 表示在正数前显示 +，负数前显示 -；  （空格）表示在正数前加空格\n",
    "\n",
    "`b`、`d`、`o`、`x` 分别是二进制、十进制、八进制、十六进制。\n",
    "\n",
    "可以使用大括号 `{}` 来转义大括号："
   ]
  },
  {
   "cell_type": "code",
   "execution_count": 5,
   "metadata": {},
   "outputs": [
    {
     "data": {
      "text/plain": [
       "'{1, 2, 3}的源代码是{1,2,3}'"
      ]
     },
     "execution_count": 5,
     "metadata": {},
     "output_type": "execute_result"
    }
   ],
   "source": [
    "'{}的源代码是{{1,2,3}}'.format({1,2,3})"
   ]
  },
  {
   "cell_type": "markdown",
   "metadata": {},
   "source": [
    "python 3.6还添加了`f-string`字符串的写法"
   ]
  },
  {
   "cell_type": "code",
   "execution_count": 6,
   "metadata": {},
   "outputs": [
    {
     "name": "stdout",
     "output_type": "stream",
     "text": [
      "python 3.6的新功能是新增功能实例\n"
     ]
    }
   ],
   "source": [
    "info = '新增功能实例'\n",
    "print(f'python 3.6的新功能是{info}')"
   ]
  },
  {
   "cell_type": "markdown",
   "metadata": {},
   "source": [
    "字符串前加 u  \n",
    "例：u\"我是含有中文字符组成的字符串。\"\n",
    "\n",
    "作用：后面字符串以 Unicode 格式 进行编码，一般用在中文字符串前面，防止因为源码储存格式问题，导致再次使用时出现乱码。"
   ]
  },
  {
   "cell_type": "markdown",
   "metadata": {},
   "source": [
    "字符串前加r  \n",
    "\n",
    "常常使用在`open(filepath)`中，表示字符串是普通字符串，不进行转义  \n",
    "\n",
    "例："
   ]
  },
  {
   "cell_type": "code",
   "execution_count": 7,
   "metadata": {},
   "outputs": [
    {
     "ename": "SyntaxError",
     "evalue": "(unicode error) 'unicodeescape' codec can't decode bytes in position 2-3: truncated \\UXXXXXXXX escape (<ipython-input-7-91bdc04d7bcb>, line 1)",
     "output_type": "error",
     "traceback": [
      "\u001b[0;36m  File \u001b[0;32m\"<ipython-input-7-91bdc04d7bcb>\"\u001b[0;36m, line \u001b[0;32m1\u001b[0m\n\u001b[0;31m    file1 = 'C:\\Users\\Default'\u001b[0m\n\u001b[0m           ^\u001b[0m\n\u001b[0;31mSyntaxError\u001b[0m\u001b[0;31m:\u001b[0m (unicode error) 'unicodeescape' codec can't decode bytes in position 2-3: truncated \\UXXXXXXXX escape\n"
     ]
    }
   ],
   "source": [
    "file1 = 'C:\\Users\\Default'"
   ]
  },
  {
   "cell_type": "code",
   "execution_count": 8,
   "metadata": {},
   "outputs": [],
   "source": [
    "file2 = r'C:\\Users\\Default'"
   ]
  },
  {
   "cell_type": "code",
   "execution_count": 11,
   "metadata": {},
   "outputs": [
    {
     "name": "stdout",
     "output_type": "stream",
     "text": [
      "\n",
      "\t文本\n",
      "\\r\\n\\t文本\n"
     ]
    }
   ],
   "source": [
    "origin_txt = '\\r\\n\\t文本'\n",
    "plant_txt = r'\\r\\n\\t文本'\n",
    "print(origin_txt)\n",
    "print(plant_txt)"
   ]
  },
  {
   "cell_type": "markdown",
   "metadata": {},
   "source": [
    "## 高阶函数\n",
    "- map/reduce\n",
    "- filter\n",
    "- sorted"
   ]
  },
  {
   "cell_type": "code",
   "execution_count": 6,
   "metadata": {},
   "outputs": [
    {
     "name": "stdout",
     "output_type": "stream",
     "text": [
      "[4, 9, 36, 16, 49, 64]\n",
      "[4, 9, 36, 16, 49, 64]\n",
      "[4, 9, 36, 16, 49, 64]\n"
     ]
    }
   ],
   "source": [
    "# 实现对列表中的每个元素进行平方\n",
    "\n",
    "l = [2,3,6,4,7,8]\n",
    "\n",
    "# way 1\n",
    "def foo(l:list):\n",
    "    new_l = []\n",
    "    for i in l:\n",
    "        new_l.append(i**2)\n",
    "    return new_l\n",
    "\n",
    "print(foo(l))\n",
    "\n",
    "# way 2\n",
    "print([i**2 for i in l])\n",
    "\n",
    "# way 3\n",
    "def func(i):\n",
    "    return i**2\n",
    "\n",
    "print(list(map(func, l)))"
   ]
  },
  {
   "cell_type": "markdown",
   "metadata": {},
   "source": [
    "还记得之前的万物皆为对象嘛，Python中是可以将函数也作为对象然后进行使用的，这是python强大且简单的一大利器。"
   ]
  },
  {
   "cell_type": "code",
   "execution_count": 67,
   "metadata": {},
   "outputs": [
    {
     "data": {
      "text/plain": [
       "12"
      ]
     },
     "execution_count": 67,
     "metadata": {},
     "output_type": "execute_result"
    }
   ],
   "source": [
    "# 随机计算两个数字的加减乘除\n",
    "# 用来理解python中的函数作为对象的概念\n",
    "from random import choice\n",
    "\n",
    "def compute(func, x, y):\n",
    "    return func(x,y)\n",
    "\n",
    "def add(x,y):\n",
    "    return x+y\n",
    "\n",
    "def minus(x,y):\n",
    "    return x-y\n",
    "\n",
    "def multiply(x,y):\n",
    "    return x*y\n",
    "\n",
    "def divid(x,y):\n",
    "    return x/y\n",
    "\n",
    "functoins = [add, minus, multiply, divid]\n",
    "operation = choice(functoins)\n",
    "x,y = 6,2\n",
    "compute(operation, x, y)"
   ]
  },
  {
   "cell_type": "markdown",
   "metadata": {},
   "source": [
    "而`map`函数，就是对可迭代对象中的所有元素进行同一个函数的调用处理"
   ]
  },
  {
   "cell_type": "code",
   "execution_count": 68,
   "metadata": {},
   "outputs": [
    {
     "name": "stdout",
     "output_type": "stream",
     "text": [
      "Help on class map in module builtins:\n",
      "\n",
      "class map(object)\n",
      " |  map(func, *iterables) --> map object\n",
      " |  \n",
      " |  Make an iterator that computes the function using arguments from\n",
      " |  each of the iterables.  Stops when the shortest iterable is exhausted.\n",
      " |  \n",
      " |  Methods defined here:\n",
      " |  \n",
      " |  __getattribute__(self, name, /)\n",
      " |      Return getattr(self, name).\n",
      " |  \n",
      " |  __iter__(self, /)\n",
      " |      Implement iter(self).\n",
      " |  \n",
      " |  __new__(*args, **kwargs) from builtins.type\n",
      " |      Create and return a new object.  See help(type) for accurate signature.\n",
      " |  \n",
      " |  __next__(self, /)\n",
      " |      Implement next(self).\n",
      " |  \n",
      " |  __reduce__(...)\n",
      " |      Return state information for pickling.\n",
      "\n"
     ]
    }
   ],
   "source": [
    "help(map)"
   ]
  },
  {
   "cell_type": "code",
   "execution_count": 70,
   "metadata": {},
   "outputs": [
    {
     "name": "stdout",
     "output_type": "stream",
     "text": [
      "[5, 8, 32, 9, 2, 45]\n",
      "['5', '8', '32', '9', '2', '45']\n"
     ]
    },
    {
     "data": {
      "text/plain": [
       "['5', '8', '32', '9', '2', '45']"
      ]
     },
     "execution_count": 70,
     "metadata": {},
     "output_type": "execute_result"
    }
   ],
   "source": [
    "# 将列表中的数字全部转化为字符串\n",
    "# 你不能使用这种方法\n",
    "l = [5,8,32,9,2,45]\n",
    "print(str(l)) # 将数组转化成str\n",
    "\n",
    "# 使用列表解析\n",
    "result = [str(i) for i in l]\n",
    "print(result)\n",
    "\n",
    "# 使用map\n",
    "list(map(str, l))"
   ]
  },
  {
   "cell_type": "code",
   "execution_count": 72,
   "metadata": {},
   "outputs": [
    {
     "data": {
      "text/plain": [
       "map"
      ]
     },
     "execution_count": 72,
     "metadata": {},
     "output_type": "execute_result"
    }
   ],
   "source": [
    "# 返回类型是map(可迭代对象) 通常再加一层需要转换的对象，比如list\n",
    "type(map(str, l))"
   ]
  },
  {
   "cell_type": "markdown",
   "metadata": {},
   "source": [
    "在使用leetcode，牛客网或其它面试题的时候，代码题一般都是要让你读取输入元素，然后你需要转换成int 数组  \n",
    "\n",
    "找出两个数组中的相同元素：\n",
    "输入实例：\n",
    "``` python\n",
    "1 2 3 4 5\n",
    "4 7 8 2 5\n",
    "```\n",
    "输出示例：\n",
    "``` pyhon\n",
    "2 4 5\n",
    "```"
   ]
  },
  {
   "cell_type": "code",
   "execution_count": 76,
   "metadata": {},
   "outputs": [
    {
     "name": "stdin",
     "output_type": "stream",
     "text": [
      " 1 2 3 4 5\n",
      " 2 3\n"
     ]
    },
    {
     "name": "stdout",
     "output_type": "stream",
     "text": [
      "2 3\n"
     ]
    }
   ],
   "source": [
    "list1 = input() # 读取第一个数组\n",
    "list2 = input() # 读取第二个数组\n",
    "\n",
    "# 按空格切分成字符串数组\n",
    "list1 = list1.split()\n",
    "list2 = list2.split() \n",
    "\n",
    "# 转换成int数组\n",
    "list1 = list(map(int, list1))\n",
    "list2 = list(map(int, list2))\n",
    "\n",
    "# 求公共元素\n",
    "result = set(list1) & set(list2)\n",
    "# print(result) 格式不太对\n",
    "\n",
    "print(' '.join(map(str, result)))"
   ]
  },
  {
   "cell_type": "code",
   "execution_count": 86,
   "metadata": {},
   "outputs": [
    {
     "data": {
      "text/plain": [
       "'2'"
      ]
     },
     "execution_count": 86,
     "metadata": {},
     "output_type": "execute_result"
    }
   ],
   "source": [
    "# 验证map返回结果的可迭代性\n",
    "m = map(str, result)\n",
    "it = iter(m)\n",
    "next(m) \n",
    "# or m.__next__() "
   ]
  },
  {
   "cell_type": "markdown",
   "metadata": {},
   "source": [
    "map是给列表中的元素都进行一个函数f的处理，类似于并行  \n",
    "reduce是给列表中的元素上下进行函数f的处理，类似于串联"
   ]
  },
  {
   "cell_type": "code",
   "execution_count": 92,
   "metadata": {},
   "outputs": [
    {
     "data": {
      "text/plain": [
       "135"
      ]
     },
     "execution_count": 92,
     "metadata": {},
     "output_type": "execute_result"
    }
   ],
   "source": [
    "# 求一个列表的元素和\n",
    "from functools import reduce\n",
    "l = [23,6,7,34,65]\n",
    "def add(x,y):\n",
    "    return x+y\n",
    "reduce(add, l)\n",
    "# 当然也可以用 sum"
   ]
  },
  {
   "cell_type": "markdown",
   "metadata": {},
   "source": [
    "reduce类似于嵌套/递归：  \n",
    "reduce(f, [x1, x2, x3, x4]) = f(f(f(x1, x2), x3), x4)"
   ]
  },
  {
   "cell_type": "markdown",
   "metadata": {},
   "source": [
    "加入我们想要讲list中的元素拼成一个数  \n",
    "[1,2,3,4] -> 1234"
   ]
  },
  {
   "cell_type": "code",
   "execution_count": 96,
   "metadata": {},
   "outputs": [
    {
     "data": {
      "text/plain": [
       "1234"
      ]
     },
     "execution_count": 96,
     "metadata": {},
     "output_type": "execute_result"
    }
   ],
   "source": [
    "def foo(x,y):\n",
    "    return x*10+y\n",
    "\n",
    "reduce(foo,[1,2,3,4])"
   ]
  },
  {
   "cell_type": "markdown",
   "metadata": {},
   "source": [
    "map,reduce的使用思想会在数据处理中有很多体现"
   ]
  },
  {
   "cell_type": "markdown",
   "metadata": {},
   "source": [
    "filter  过滤器  返回一个可迭代对象"
   ]
  },
  {
   "cell_type": "code",
   "execution_count": 97,
   "metadata": {},
   "outputs": [
    {
     "name": "stdout",
     "output_type": "stream",
     "text": [
      "Help on class filter in module builtins:\n",
      "\n",
      "class filter(object)\n",
      " |  filter(function or None, iterable) --> filter object\n",
      " |  \n",
      " |  Return an iterator yielding those items of iterable for which function(item)\n",
      " |  is true. If function is None, return the items that are true.\n",
      " |  \n",
      " |  Methods defined here:\n",
      " |  \n",
      " |  __getattribute__(self, name, /)\n",
      " |      Return getattr(self, name).\n",
      " |  \n",
      " |  __iter__(self, /)\n",
      " |      Implement iter(self).\n",
      " |  \n",
      " |  __new__(*args, **kwargs) from builtins.type\n",
      " |      Create and return a new object.  See help(type) for accurate signature.\n",
      " |  \n",
      " |  __next__(self, /)\n",
      " |      Implement next(self).\n",
      " |  \n",
      " |  __reduce__(...)\n",
      " |      Return state information for pickling.\n",
      "\n"
     ]
    }
   ],
   "source": [
    "help(filter)"
   ]
  },
  {
   "cell_type": "code",
   "execution_count": 13,
   "metadata": {},
   "outputs": [
    {
     "data": {
      "text/plain": [
       "['1', 2, 'b']"
      ]
     },
     "execution_count": 13,
     "metadata": {},
     "output_type": "execute_result"
    }
   ],
   "source": [
    "# 初始的判断列表元素是否为空实现流程\n",
    "\n",
    "lis = ['', '1', 2, None, ' ', 'b']\n",
    "# 定义函数\n",
    "def isEmpty(objs):\n",
    "    new_list = []\n",
    "    # 遍历每一个元素的情况\n",
    "    for obj in objs:\n",
    "        if obj != '' and obj != ' ' and obj != None:\n",
    "            new_list.append(obj)\n",
    "\n",
    "    return new_list\n",
    "\n",
    "# 调用函数\n",
    "lis = isEmpty(lis)\n",
    "lis\n",
    "# 想办法干掉循环"
   ]
  },
  {
   "cell_type": "code",
   "execution_count": 102,
   "metadata": {},
   "outputs": [
    {
     "data": {
      "text/plain": [
       "['1', 2, 'b']"
      ]
     },
     "execution_count": 102,
     "metadata": {},
     "output_type": "execute_result"
    }
   ],
   "source": [
    "def isEmpty(obj):\n",
    "    return obj != '' and obj != ' ' and obj != None\n",
    "\n",
    "list(filter(isEmpty, ['', '1', 2, None, ' ', 'b']))"
   ]
  },
  {
   "cell_type": "markdown",
   "metadata": {},
   "source": [
    "## 匿名函数与lambda"
   ]
  },
  {
   "cell_type": "markdown",
   "metadata": {},
   "source": [
    "顾名思义匿名函数就是没有函数名称"
   ]
  },
  {
   "cell_type": "markdown",
   "metadata": {},
   "source": [
    "python允许lamda关键字创建匿名函数，语法：\n",
    "``` python\n",
    "lambda [arg1 [,arg2, ... argN]] : expression\n",
    "```"
   ]
  },
  {
   "cell_type": "code",
   "execution_count": 18,
   "metadata": {},
   "outputs": [
    {
     "data": {
      "text/plain": [
       "<function __main__.<lambda>()>"
      ]
     },
     "execution_count": 18,
     "metadata": {},
     "output_type": "execute_result"
    }
   ],
   "source": [
    "def return_True():\n",
    "    return True\n",
    "\n",
    "# 讲函数可以写为一行\n",
    "\n",
    "def return_True(): return True\n",
    "\n",
    "# 写成lambda\n",
    "\n",
    "lambda :True"
   ]
  },
  {
   "cell_type": "markdown",
   "metadata": {},
   "source": [
    "还记得python中的万物皆为对象吗?  \n",
    "函数也可以是对象  "
   ]
  },
  {
   "cell_type": "code",
   "execution_count": 19,
   "metadata": {},
   "outputs": [
    {
     "name": "stdout",
     "output_type": "stream",
     "text": [
      "True\n"
     ]
    }
   ],
   "source": [
    "# 变量=函数 注意没有()\n",
    "ver1 = return_True\n",
    "# 调用函数\n",
    "print(ver1())"
   ]
  },
  {
   "cell_type": "code",
   "execution_count": 20,
   "metadata": {},
   "outputs": [
    {
     "name": "stdout",
     "output_type": "stream",
     "text": [
      "True\n"
     ]
    }
   ],
   "source": [
    "# 同理 可以将lambda表达式(匿名函数)来赋值给变量\n",
    "func = lambda : True\n",
    "# 调用(一样)\n",
    "print(func())"
   ]
  },
  {
   "cell_type": "markdown",
   "metadata": {},
   "source": [
    "一些lambda函数示例"
   ]
  },
  {
   "cell_type": "code",
   "execution_count": 22,
   "metadata": {},
   "outputs": [
    {
     "data": {
      "text/plain": [
       "(3, 3)"
      ]
     },
     "execution_count": 22,
     "metadata": {},
     "output_type": "execute_result"
    }
   ],
   "source": [
    "def add(x,y): return x+y\n",
    "# 等同于\n",
    "add_lambda = lambda x,y: x+y\n",
    "\n",
    "add(1,2), add_lambda(1,2)"
   ]
  },
  {
   "cell_type": "markdown",
   "metadata": {},
   "source": [
    "结合之前的reduce，就可以将两个例子改写：\n",
    "``` python\n",
    "# 1\n",
    "from functools import reduce\n",
    "l = [23,6,7,34,65]\n",
    "def add(x,y):\n",
    "    return x+y\n",
    "reduce(add, l)\n",
    "# 当然也可以用 sum\n",
    "\n",
    "# 2\n",
    "def foo(x,y):\n",
    "    return x*10+y\n",
    "\n",
    "reduce(foo,[1,2,3,4])\n",
    "```"
   ]
  },
  {
   "cell_type": "code",
   "execution_count": 25,
   "metadata": {},
   "outputs": [
    {
     "data": {
      "text/plain": [
       "1234"
      ]
     },
     "execution_count": 25,
     "metadata": {},
     "output_type": "execute_result"
    }
   ],
   "source": [
    "# 2\n",
    "reduce(lambda x,y: x*10+y, [1,2,3,4])"
   ]
  },
  {
   "cell_type": "code",
   "execution_count": 15,
   "metadata": {},
   "outputs": [
    {
     "data": {
      "text/plain": [
       "['1', 2, 'b']"
      ]
     },
     "execution_count": 15,
     "metadata": {},
     "output_type": "execute_result"
    }
   ],
   "source": [
    "# 来把之前的过滤空元素重新写一下\n",
    "e = lambda obj: obj != '' and obj != ' ' and obj != None\n",
    "\n",
    "list(filter(e, ['', '1', 2, None, ' ', 'b']))"
   ]
  },
  {
   "cell_type": "markdown",
   "metadata": {},
   "source": [
    "匿名函数没有函数名称的，我们来检查一下  \n",
    "将函数赋值给变量，可以通过`__name__`属性得到函数的名称"
   ]
  },
  {
   "cell_type": "code",
   "execution_count": 26,
   "metadata": {},
   "outputs": [
    {
     "name": "stdout",
     "output_type": "stream",
     "text": [
      "add\n"
     ]
    }
   ],
   "source": [
    "def add(x,y): return x+y\n",
    "a = add\n",
    "print(a.__name__)"
   ]
  },
  {
   "cell_type": "code",
   "execution_count": 27,
   "metadata": {},
   "outputs": [
    {
     "data": {
      "text/plain": [
       "'<lambda>'"
      ]
     },
     "execution_count": 27,
     "metadata": {},
     "output_type": "execute_result"
    }
   ],
   "source": [
    "lambd = lambda x,y:x+y\n",
    "lambd.__name__"
   ]
  },
  {
   "cell_type": "markdown",
   "metadata": {},
   "source": [
    "## 装饰器\n",
    "\n",
    "动态规划"
   ]
  },
  {
   "cell_type": "markdown",
   "metadata": {},
   "source": [
    "假如你加入了一个电商公司，已经写好了关于用户的增删改查功能。"
   ]
  },
  {
   "cell_type": "code",
   "execution_count": 30,
   "metadata": {},
   "outputs": [],
   "source": [
    "def add_user(name):\n",
    "    # some code\n",
    "    print('create user:', name)\n",
    "    \n",
    "def remove_user(name):\n",
    "    # some code\n",
    "    print('remove user:', name)"
   ]
  },
  {
   "cell_type": "markdown",
   "metadata": {},
   "source": [
    "现在，假设我们要增强`add_user()`函数的功能，比如，在函数调用前后自动打印日志，但又不希望修改`add_user()`函数的定义，  \n",
    "这种在代码运行期间动态增加功能的方式，称之为“装饰器”（Decorator）。"
   ]
  },
  {
   "cell_type": "code",
   "execution_count": 110,
   "metadata": {},
   "outputs": [],
   "source": [
    "from datetime import datetime\n",
    "def log(func):\n",
    "    def wrapper(*args, **kw):\n",
    "        print('calling function:', func.__name__, '\\t at ', datetime.now())\n",
    "        return func(*args, **kw)\n",
    "    return wrapper"
   ]
  },
  {
   "cell_type": "markdown",
   "metadata": {},
   "source": [
    "然后在函数前面添加@log语法\n",
    "\n",
    "@log 等同于 log(add_user)"
   ]
  },
  {
   "cell_type": "code",
   "execution_count": 111,
   "metadata": {},
   "outputs": [],
   "source": [
    "@log\n",
    "def add_user(name):\n",
    "    # some code\n",
    "    print('create user:', name)\n",
    "\n",
    "@log\n",
    "def remove_user(name):\n",
    "    # some code\n",
    "    print('remove user:', name)"
   ]
  },
  {
   "cell_type": "code",
   "execution_count": 112,
   "metadata": {},
   "outputs": [
    {
     "name": "stdout",
     "output_type": "stream",
     "text": [
      "calling function: add_user \t at  2019-11-04 15:27:21.701797\n",
      "create user: chen\n",
      "calling function: remove_user \t at  2019-11-04 15:27:21.702230\n",
      "remove user: song\n"
     ]
    },
    {
     "data": {
      "text/plain": [
       "(None, None)"
      ]
     },
     "execution_count": 112,
     "metadata": {},
     "output_type": "execute_result"
    }
   ],
   "source": [
    "add_user('chen'), remove_user('song')"
   ]
  },
  {
   "cell_type": "code",
   "execution_count": 41,
   "metadata": {},
   "outputs": [
    {
     "name": "stdout",
     "output_type": "stream",
     "text": [
      "This is a staticmethod\n"
     ]
    },
    {
     "ename": "TypeError",
     "evalue": "info() takes 0 positional arguments but 1 was given",
     "output_type": "error",
     "traceback": [
      "\u001b[0;31m---------------------------------------------------------------------------\u001b[0m",
      "\u001b[0;31mTypeError\u001b[0m                                 Traceback (most recent call last)",
      "\u001b[0;32m<ipython-input-41-6fa319f0e7b6>\u001b[0m in \u001b[0;36m<module>\u001b[0;34m\u001b[0m\n\u001b[1;32m      5\u001b[0m \u001b[0mChinese\u001b[0m\u001b[0;34m.\u001b[0m\u001b[0minfo\u001b[0m\u001b[0;34m(\u001b[0m\u001b[0;34m)\u001b[0m\u001b[0;34m\u001b[0m\u001b[0;34m\u001b[0m\u001b[0m\n\u001b[1;32m      6\u001b[0m \u001b[0mlixiaolong\u001b[0m \u001b[0;34m=\u001b[0m \u001b[0mChinese\u001b[0m\u001b[0;34m(\u001b[0m\u001b[0;34m)\u001b[0m\u001b[0;34m\u001b[0m\u001b[0;34m\u001b[0m\u001b[0m\n\u001b[0;32m----> 7\u001b[0;31m \u001b[0mlixiaolong\u001b[0m\u001b[0;34m.\u001b[0m\u001b[0minfo\u001b[0m\u001b[0;34m(\u001b[0m\u001b[0;34m)\u001b[0m\u001b[0;34m\u001b[0m\u001b[0;34m\u001b[0m\u001b[0m\n\u001b[0m",
      "\u001b[0;31mTypeError\u001b[0m: info() takes 0 positional arguments but 1 was given"
     ]
    }
   ],
   "source": [
    "class Chinese:\n",
    "    def info():\n",
    "        print('This is a staticmethod')\n",
    "        \n",
    "Chinese.info()\n",
    "lixiaolong = Chinese()\n",
    "lixiaolong.info() # 传入类的实例对象，没有接收参数，所以报错"
   ]
  },
  {
   "cell_type": "code",
   "execution_count": 45,
   "metadata": {},
   "outputs": [
    {
     "name": "stdout",
     "output_type": "stream",
     "text": [
      "This is a staticmethod\n",
      "This is a staticmethod\n",
      "eat() is invoked of  Chinese\n"
     ]
    }
   ],
   "source": [
    "class Chinese:\n",
    "    @staticmethod\n",
    "    def info():\n",
    "        print('This is a staticmethod')\n",
    "        \n",
    "    @classmethod\n",
    "    def eat(self):\n",
    "        print('eat() is invoked of ', self.__name__)\n",
    "\n",
    "Chinese.info()\n",
    "lixiaolong = Chinese()\n",
    "lixiaolong.info() # 传入类的实例对象，没有接收参数，所以报错\n",
    "lixiaolong.eat()"
   ]
  },
  {
   "cell_type": "markdown",
   "metadata": {},
   "source": [
    "## 正则表达式"
   ]
  },
  {
   "cell_type": "markdown",
   "metadata": {},
   "source": [
    "[正则表达式手册](https://tool.oschina.net/uploads/apidocs/jquery/regexp.html)  \n",
    "[在线正则表达式](https://c.runoob.com/front-end/854)"
   ]
  },
  {
   "cell_type": "markdown",
   "metadata": {},
   "source": [
    "以一定的模式来进行字符串的匹配  \n",
    "掌握正则表达式需要非常多的时间，可以先入门，在以后的工作中遇到再更加深入研究"
   ]
  },
  {
   "cell_type": "code",
   "execution_count": 47,
   "metadata": {},
   "outputs": [
    {
     "name": "stdout",
     "output_type": "stream",
     "text": [
      "Help on function match in module re:\n",
      "\n",
      "match(pattern, string, flags=0)\n",
      "    Try to apply the pattern at the start of the string, returning\n",
      "    a match object, or None if no match was found.\n",
      "\n"
     ]
    }
   ],
   "source": [
    "import re\n",
    "help(re.match)"
   ]
  },
  {
   "cell_type": "markdown",
   "metadata": {},
   "source": [
    "match方法是从头开始匹配"
   ]
  },
  {
   "cell_type": "code",
   "execution_count": 52,
   "metadata": {},
   "outputs": [
    {
     "name": "stdout",
     "output_type": "stream",
     "text": [
      "foo\n",
      "None\n"
     ]
    }
   ],
   "source": [
    "# 找到foo\n",
    "m = re.match('foo', 'foo string')\n",
    "print(m.group())\n",
    "\n",
    "# 没有找到fee\n",
    "m = re.match('fee', 'foo string')\n",
    "print(m)"
   ]
  },
  {
   "cell_type": "markdown",
   "metadata": {},
   "source": [
    "search是搜索字符串中首次出现的位置"
   ]
  },
  {
   "cell_type": "code",
   "execution_count": 53,
   "metadata": {},
   "outputs": [
    {
     "name": "stdout",
     "output_type": "stream",
     "text": [
      "Help on function search in module re:\n",
      "\n",
      "search(pattern, string, flags=0)\n",
      "    Scan through string looking for a match to the pattern, returning\n",
      "    a match object, or None if no match was found.\n",
      "\n"
     ]
    }
   ],
   "source": [
    "help(re.search)"
   ]
  },
  {
   "cell_type": "code",
   "execution_count": 65,
   "metadata": {},
   "outputs": [
    {
     "name": "stdout",
     "output_type": "stream",
     "text": [
      "foo\n"
     ]
    }
   ],
   "source": [
    "# 使用match搜索不到\n",
    "m = re.search('foo', 'seafood')\n",
    "print(m.group()) if m is not None else print('None')"
   ]
  },
  {
   "cell_type": "code",
   "execution_count": 68,
   "metadata": {},
   "outputs": [
    {
     "name": "stdout",
     "output_type": "stream",
     "text": [
      "bat\n",
      "bend\n",
      "None\n",
      "c3po\n",
      "c3po\n"
     ]
    }
   ],
   "source": [
    "# 匹配多个字符串 |\n",
    "m = re.match('bat|bet|bit', 'bat')\n",
    "print(m.group()) if m is not None else print('None')\n",
    "    \n",
    "# 匹配任意单个字符 .\n",
    "m = re.match('.end', 'bend')\n",
    "print(m.group()) if m is not None else print('None')\n",
    "\n",
    "m = re.match('.end', 'end')\n",
    "print(m.group()) if m is not None else print('None')\n",
    "\n",
    "# 字符串集合 []\n",
    "m = re.match('[cr][23][dp][o2]', 'c3po')\n",
    "print(m.group()) if m is not None else print('None')\n",
    "\n",
    "# []   与 |是不同的\n",
    "m = re.match('c3po|r2d2', 'c3po')\n",
    "print(m.group()) if m is not None else print('None')"
   ]
  },
  {
   "cell_type": "markdown",
   "metadata": {},
   "source": [
    "<table class=\"wikitable\">\n",
    "  <tbody>\n",
    "    <tr>\n",
    "      <th width=\"10%\">字符</th>\n",
    "      <th width=\"90%\">描述</th>\n",
    "    </tr>\n",
    "    <tr>\n",
    "      <th style=\"text-align:center;\">\\</th>\n",
    "      <td>将下一个字符标记为一个特殊字符、或一个原义字符、或一个向后引用、或一个八进制转义符。例如，“<code>n</code>”匹配字符“<code>n</code>”。“<code>\\n</code>”匹配一个换行符。串行“<code>\\\\</code>”匹配“<code>\\</code>”而“<code>\\(</code>”则匹配“<code>(</code>”。</td>\n",
    "    </tr>\n",
    "    <tr>\n",
    "      <th style=\"text-align:center;\">^</th>\n",
    "      <td>匹配输入字符串的开始位置。如果设置了RegExp对象的Multiline属性，^也匹配“<code>\\n</code>”或“<code>\\r</code>”之后的位置。</td>\n",
    "    </tr>\n",
    "    <tr>\n",
    "      <th style=\"text-align:center;\">$</th>\n",
    "      <td>匹配输入字符串的结束位置。如果设置了RegExp对象的Multiline属性，$也匹配“<code>\\n</code>”或“<code>\\r</code>”之前的位置。</td>\n",
    "    </tr>\n",
    "    <tr>\n",
    "      <th style=\"text-align:center;\">*</th>\n",
    "      <td>匹配前面的子表达式零次或多次。例如，zo*能匹配“<code>z</code>”以及“<code>zoo</code>”。*等价于{0,}。</td>\n",
    "    </tr>\n",
    "    <tr>\n",
    "      <th style=\"text-align:center;\">+</th>\n",
    "      <td>匹配前面的子表达式一次或多次。例如，“<code>zo+</code>”能匹配“<code>zo</code>”以及“<code>zoo</code>”，但不能匹配“<code>z</code>”。+等价于{1,}。</td>\n",
    "    </tr>\n",
    "    <tr>\n",
    "      <th style=\"text-align:center;\">?</th>\n",
    "      <td>匹配前面的子表达式零次或一次。例如，“<code>do(es)?</code>”可以匹配“<code>does</code>”或“<code>does</code>”中的“<code>do</code>”。?等价于{0,1}。</td>\n",
    "    </tr>\n",
    "    <tr>\n",
    "      <th style=\"text-align:center;\">{<span style=\"font-family:Times New Roman; font-style:italic;\">n</span>}</th>\n",
    "      <td><span style=\"font-family:Times New Roman; font-style:italic;\">n</span>是一个非负整数。匹配确定的<span style=\"font-family:Times New Roman; font-style:italic;\">n</span>次。例如，“<code>o{2}</code>”不能匹配“<code>Bob</code>”中的“<code>o</code>”，但是能匹配“<code>food</code>”中的两个o。</td>\n",
    "    </tr>\n",
    "    <tr>\n",
    "      <th style=\"text-align:center;\">{<span style=\"font-family:Times New Roman; font-style:italic;\">n</span>,}</th>\n",
    "      <td><span style=\"font-family:Times New Roman; font-style:italic;\">n</span>是一个非负整数。至少匹配<span style=\"font-family:Times New Roman; font-style:italic;\">n</span>次。例如，“<code>o{2,}</code>”不能匹配“<code>Bob</code>”中的“<code>o</code>”，但能匹配“<code>foooood</code>”中的所有o。“<code>o{1,}</code>”等价于“<code>o+</code>”。“<code>o{0,}</code>”则等价于“<code>o*</code>”。</td>\n",
    "    </tr>\n",
    "    <tr>\n",
    "      <th style=\"text-align:center;\">{<span style=\"font-family:Times New Roman; font-style:italic;\">n</span>,<span style=\"font-family:Times New Roman; font-style:italic;\">m</span>}</th>\n",
    "      <td><span style=\"font-family:Times New Roman; font-style:italic;\">m</span>和<span style=\"font-family:Times New Roman; font-style:italic;\">n</span>均为非负整数，其中<span style=\"font-family:Times New Roman; font-style:italic;\">n</span>&lt;=<span style=\"font-family:Times New Roman; font-style:italic;\">m</span>。最少匹配<span style=\"font-family:Times New Roman; font-style:italic;\">n</span>次且最多匹配<span style=\"font-family:Times New Roman; font-style:italic;\">m</span>次。例如，“<code>o{1,3}</code>”将匹配“<code>fooooood</code>”中的前三个o。“<code>o{0,1}</code>”等价于“<code>o?</code>”。请注意在逗号和两个数之间不能有空格。</td>\n",
    "    </tr>\n",
    "    <tr>\n",
    "      <th style=\"text-align:center;\">?</th>\n",
    "      <td>当该字符紧跟在任何一个其他限制符（*,+,?，{<span style=\"font-family:Times New Roman; font-style:italic;\">n</span>}，{<span style=\"font-family:Times New Roman; font-style:italic;\">n</span>,}，{<span style=\"font-family:Times New Roman; font-style:italic;\">n</span>,<span style=\"font-family:Times New Roman; font-style:italic;\">m</span>}）后面时，匹配模式是非贪婪的。非贪婪模式尽可能少的匹配所搜索的字符串，而默认的贪婪模式则尽可能多的匹配所搜索的字符串。例如，对于字符串“<code>oooo</code>”，“<code>o+?</code>”将匹配单个“<code>o</code>”，而“<code>o+</code>”将匹配所有“<code>o</code>”。</td>\n",
    "    </tr>\n",
    "    <tr>\n",
    "      <th style=\"text-align:center;\">.</th>\n",
    "      <td>匹配除“<code>\\</code><span style=\"font-family:Times New Roman; font-style:italic;\"><code>n</code></span>”之外的任何单个字符。要匹配包括“<code>\\</code><span style=\"font-family:Times New Roman; font-style:italic;\"><code>n</code></span>”在内的任何字符，请使用像“<code>(.|\\n)</code>”的模式。</td>\n",
    "    </tr>\n",
    "    <tr>\n",
    "      <th style=\"text-align:center;\">(pattern)</th>\n",
    "      <td>匹配pattern并获取这一匹配。所获取的匹配可以从产生的Matches集合得到，在VBScript中使用SubMatches集合，在JScript中则使用$0…$9属性。要匹配圆括号字符，请使用“<code>\\(</code>”或“<code>\\)</code>”。</td>\n",
    "    </tr>\n",
    "    <tr>\n",
    "      <th style=\"text-align:center;\">(?:pattern)</th>\n",
    "      <td>匹配pattern但不获取匹配结果，也就是说这是一个非获取匹配，不进行存储供以后使用。这在使用或字符“<code>(|)</code>”来组合一个模式的各个部分是很有用。例如“<code>industr(?:y|ies)</code>”就是一个比“<code>industry|industries</code>”更简略的表达式。</td>\n",
    "    </tr>\n",
    "    <tr>\n",
    "      <th style=\"text-align:center;\">(?=pattern)</th>\n",
    "      <td>正向肯定预查，在任何匹配pattern的字符串开始处匹配查找字符串。这是一个非获取匹配，也就是说，该匹配不需要获取供以后使用。例如，“<code>Windows(?=95|98|NT|2000)</code>”能匹配“<code>Windows2000</code>”中的“<code>Windows</code>”，但不能匹配“<code>Windows3.1</code>”中的“<code>Windows</code>”。预查不消耗字符，也就是说，在一个匹配发生后，在最后一次匹配之后立即开始下一次匹配的搜索，而不是从包含预查的字符之后开始。</td>\n",
    "    </tr>\n",
    "    <tr>\n",
    "      <th style=\"text-align:center;\">(?!pattern)</th>\n",
    "      <td>正向否定预查，在任何不匹配pattern的字符串开始处匹配查找字符串。这是一个非获取匹配，也就是说，该匹配不需要获取供以后使用。例如“<code>Windows(?!95|98|NT|2000)</code>”能匹配“<code>Windows3.1</code>”中的“<code>Windows</code>”，但不能匹配“<code>Windows2000</code>”中的“<code>Windows</code>”。预查不消耗字符，也就是说，在一个匹配发生后，在最后一次匹配之后立即开始下一次匹配的搜索，而不是从包含预查的字符之后开始</td>\n",
    "    </tr>\n",
    "    <tr>\n",
    "      <th style=\"text-align:center;\">(?&lt;=pattern)</th>\n",
    "      <td>反向肯定预查，与正向肯定预查类拟，只是方向相反。例如，“<code>(?&lt;=95|98|NT|2000)Windows</code>”能匹配“<code>2000Windows</code>”中的“<code>Windows</code>”，但不能匹配“<code>3.1Windows</code>”中的“<code>Windows</code>”。</td>\n",
    "    </tr>\n",
    "    <tr>\n",
    "      <th style=\"text-align:center;\">(?&lt;!pattern)</th>\n",
    "      <td>反向否定预查，与正向否定预查类拟，只是方向相反。例如“<code>(?&lt;!95|98|NT|2000)Windows</code>”能匹配“<code>3.1Windows</code>”中的“<code>Windows</code>”，但不能匹配“<code>2000Windows</code>”中的“<code>Windows</code>”。</td>\n",
    "    </tr>\n",
    "    <tr>\n",
    "      <th style=\"text-align:center;\">x|y</th>\n",
    "      <td>匹配x或y。例如，“<code>z|food</code>”能匹配“<code>z</code>”或“<code>food</code>”。“<code>(z|f)ood</code>”则匹配“<code>zood</code>”或“<code>food</code>”。</td>\n",
    "    </tr>\n",
    "    <tr>\n",
    "      <th style=\"text-align:center;\">[xyz]</th>\n",
    "      <td>字符集合。匹配所包含的任意一个字符。例如，“<code>[abc]</code>”可以匹配“<code>plain</code>”中的“<code>a</code>”。</td>\n",
    "    </tr>\n",
    "    <tr>\n",
    "      <th style=\"text-align:center;\">[^xyz]</th>\n",
    "      <td>负值字符集合。匹配未包含的任意字符。例如，“<code>[^abc]</code>”可以匹配“<code>plain</code>”中的“<code>p</code>”。</td>\n",
    "    </tr>\n",
    "    <tr>\n",
    "      <th style=\"text-align:center;\">[a-z]</th>\n",
    "      <td>字符范围。匹配指定范围内的任意字符。例如，“<code>[a-z]</code>”可以匹配“<code>a</code>”到“<code>z</code>”范围内的任意小写字母字符。</td>\n",
    "    </tr>\n",
    "    <tr>\n",
    "      <th style=\"text-align:center;\">[^a-z]</th>\n",
    "      <td>负值字符范围。匹配任何不在指定范围内的任意字符。例如，“<code>[^a-z]</code>”可以匹配任何不在“<code>a</code>”到“<code>z</code>”范围内的任意字符。</td>\n",
    "    </tr>\n",
    "    <tr>\n",
    "      <th style=\"text-align:center;\">\\b</th>\n",
    "      <td>匹配一个单词边界，也就是指单词和空格间的位置。例如，“<code>er\\b</code>”可以匹配“<code>never</code>”中的“<code>er</code>”，但不能匹配“<code>verb</code>”中的“<code>er</code>”。</td>\n",
    "    </tr>\n",
    "    <tr>\n",
    "      <th style=\"text-align:center;\">\\B</th>\n",
    "      <td>匹配非单词边界。“<code>er\\B</code>”能匹配“<code>verb</code>”中的“<code>er</code>”，但不能匹配“<code>never</code>”中的“<code>er</code>”。</td>\n",
    "    </tr>\n",
    "    <tr>\n",
    "      <th style=\"text-align:center;\">\\cx</th>\n",
    "      <td>匹配由x指明的控制字符。例如，\\cM匹配一个Control-M或回车符。x的值必须为A-Z或a-z之一。否则，将c视为一个原义的“<code>c</code>”字符。</td>\n",
    "    </tr>\n",
    "    <tr>\n",
    "      <th style=\"text-align:center;\">\\d</th>\n",
    "      <td>匹配一个数字字符。等价于[0-9]。</td>\n",
    "    </tr>\n",
    "    <tr>\n",
    "      <th style=\"text-align:center;\">\\D</th>\n",
    "      <td>匹配一个非数字字符。等价于[^0-9]。</td>\n",
    "    </tr>\n",
    "    <tr>\n",
    "      <th style=\"text-align:center;\">\\f</th>\n",
    "      <td>匹配一个换页符。等价于\\x0c和\\cL。</td>\n",
    "    </tr>\n",
    "    <tr>\n",
    "      <th style=\"text-align:center;\">\\n</th>\n",
    "      <td>匹配一个换行符。等价于\\x0a和\\cJ。</td>\n",
    "    </tr>\n",
    "    <tr>\n",
    "      <th style=\"text-align:center;\">\\r</th>\n",
    "      <td>匹配一个回车符。等价于\\x0d和\\cM。</td>\n",
    "    </tr>\n",
    "    <tr>\n",
    "      <th style=\"text-align:center;\">\\s</th>\n",
    "      <td>匹配任何空白字符，包括空格、制表符、换页符等等。等价于[ \\f\\n\\r\\t\\v]。</td>\n",
    "    </tr>\n",
    "    <tr>\n",
    "      <th style=\"text-align:center;\">\\S</th>\n",
    "      <td>匹配任何非空白字符。等价于[^ \\f\\n\\r\\t\\v]。</td>\n",
    "    </tr>\n",
    "    <tr>\n",
    "      <th style=\"text-align:center;\">\\t</th>\n",
    "      <td>匹配一个制表符。等价于\\x09和\\cI。</td>\n",
    "    </tr>\n",
    "    <tr>\n",
    "      <th style=\"text-align:center;\">\\v</th>\n",
    "      <td>匹配一个垂直制表符。等价于\\x0b和\\cK。</td>\n",
    "    </tr>\n",
    "    <tr>\n",
    "      <th style=\"text-align:center;\">\\w</th>\n",
    "      <td>匹配包括下划线的任何单词字符。等价于“<code>[A-Za-z0-9_]</code>”。</td>\n",
    "    </tr>\n",
    "    <tr>\n",
    "      <th style=\"text-align:center;\">\\W</th>\n",
    "      <td>匹配任何非单词字符。等价于“<code>[^A-Za-z0-9_]</code>”。</td>\n",
    "    </tr>\n",
    "    <tr>\n",
    "      <th style=\"text-align:center;\">\\x<span style=\"font-family:Times New Roman; font-style:italic;\">n</span></th>\n",
    "      <td>匹配<span style=\"font-family:Times New Roman; font-style:italic;\">n</span>，其中<span style=\"font-family:Times New Roman; font-style:italic;\">n</span>为十六进制转义值。十六进制转义值必须为确定的两个数字长。例如，“<code>\\x41</code>”匹配“<code>A</code>”。“<code>\\x041</code>”则等价于“<code>\\x04&amp;1</code>”。正则表达式中可以使用ASCII编码。.</td>\n",
    "    </tr>\n",
    "    <tr>\n",
    "      <th style=\"text-align:center;\">\\<span style=\"font-family:Times New Roman; font-style:italic;\">num</span></th>\n",
    "      <td>匹配<span style=\"font-family:Times New Roman; font-style:italic;\">num</span>，其中<span style=\"font-family:Times New Roman; font-style:italic;\">num</span>是一个正整数。对所获取的匹配的引用。例如，“<code>(.)\\1</code>”匹配两个连续的相同字符。</td>\n",
    "    </tr>\n",
    "    <tr>\n",
    "      <th style=\"text-align:center;\">\\<span style=\"font-family:Times New Roman; font-style:italic;\">n</span></th>\n",
    "      <td>标识一个八进制转义值或一个向后引用。如果\\<span style=\"font-family:Times New Roman; font-style:italic;\">n</span>之前至少<span style=\"font-family:Times New Roman; font-style:italic;\">n</span>个获取的子表达式，则<span style=\"font-family:Times New Roman; font-style:italic;\">n</span>为向后引用。否则，如果<span style=\"font-family:Times New Roman; font-style:italic;\">n</span>为八进制数字（0-7），则<span style=\"font-family:Times New Roman; font-style:italic;\">n</span>为一个八进制转义值。</td>\n",
    "    </tr>\n",
    "    <tr>\n",
    "      <th style=\"text-align:center;\">\\<span style=\"font-family:Times New Roman; font-style:italic;\">nm</span></th>\n",
    "      <td>标识一个八进制转义值或一个向后引用。如果\\<span style=\"font-family:Times New Roman; font-style:italic;\">nm</span>之前至少有<span style=\"font-family:Times New Roman; font-style:italic;\">nm</span>个获得子表达式，则<span style=\"font-family:Times New Roman; font-style:italic;\">nm</span>为向后引用。如果\\<span style=\"font-family:Times New Roman; font-style:italic;\">nm</span>之前至少有<span style=\"font-family:Times New Roman; font-style:italic;\">n</span>个获取，则<span style=\"font-family:Times New Roman; font-style:italic;\">n</span>为一个后跟文字<span style=\"font-family:Times New Roman; font-style:italic;\">m</span>的向后引用。如果前面的条件都不满足，若<span style=\"font-family:Times New Roman; font-style:italic;\">n</span>和<span style=\"font-family:Times New Roman; font-style:italic;\">m</span>均为八进制数字（0-7），则\\<span style=\"font-family:Times New Roman; font-style:italic;\">nm</span>将匹配八进制转义值<span style=\"font-family:Times New Roman; font-style:italic;\">nm</span>。</td>\n",
    "    </tr>\n",
    "    <tr>\n",
    "      <th style=\"text-align:center;\">\\<span style=\"font-family:Times New Roman; font-style:italic;\">nml</span></th>\n",
    "      <td>如果<span style=\"font-family:Times New Roman; font-style:italic;\">n</span>为八进制数字（0-3），且<span style=\"font-family:Times New Roman; font-style:italic;\">m和l</span>均为八进制数字（0-7），则匹配八进制转义值<span style=\"font-family:Times New Roman; font-style:italic;\">nm</span>l。</td>\n",
    "    </tr>\n",
    "    <tr>\n",
    "      <th style=\"text-align:center;\">\\u<span style=\"font-family:Times New Roman; font-style:italic;\">n</span></th>\n",
    "      <td>匹配<span style=\"font-family:Times New Roman; font-style:italic;\">n</span>，其中<span style=\"font-family:Times New Roman; font-style:italic;\">n</span>是一个用四个十六进制数字表示的Unicode字符。例如，\\u00A9匹配版权符号（©）。</td>\n",
    "    </tr>\n",
    "  </tbody>\n",
    "</table>"
   ]
  },
  {
   "cell_type": "code",
   "execution_count": 69,
   "metadata": {},
   "outputs": [
    {
     "name": "stdout",
     "output_type": "stream",
     "text": [
      "nobody@xxx.com\n"
     ]
    }
   ],
   "source": [
    "# 电子邮件地址\n",
    "patt = '\\w+@(\\w+\\.)?\\w+\\.com'\n",
    "m = re.match(patt, 'nobody@xxx.com')\n",
    "print(m.group()) if m is not None else print('None')"
   ]
  },
  {
   "cell_type": "markdown",
   "metadata": {},
   "source": [
    "**非真实QQ，请勿打扰**"
   ]
  },
  {
   "cell_type": "code",
   "execution_count": 79,
   "metadata": {},
   "outputs": [
    {
     "name": "stdout",
     "output_type": "stream",
     "text": [
      "781504542\n"
     ]
    }
   ],
   "source": [
    "m = re.search('[1-9][0-9]{4,}', '这是我的QQ号781504542,第二个qq号：10054422288')\n",
    "print(m.group()) if m is not None else print('None')"
   ]
  },
  {
   "cell_type": "code",
   "execution_count": 82,
   "metadata": {},
   "outputs": [
    {
     "name": "stdout",
     "output_type": "stream",
     "text": [
      "['781504542', '10054422288']\n"
     ]
    }
   ],
   "source": [
    "m = re.findall('[1-9][0-9]{4,}', '这是我的QQ号781504542,第二个qq号：10054422288')\n",
    "print(m) if m is not None else print('None')"
   ]
  },
  {
   "cell_type": "markdown",
   "metadata": {},
   "source": [
    "## 文件处理\n",
    "\n",
    "python IO 已经讲了input print  \n",
    "再来介绍一下文件的读写操作"
   ]
  },
  {
   "cell_type": "code",
   "execution_count": 83,
   "metadata": {},
   "outputs": [
    {
     "name": "stdout",
     "output_type": "stream",
     "text": [
      "Help on built-in function open in module io:\n",
      "\n",
      "open(file, mode='r', buffering=-1, encoding=None, errors=None, newline=None, closefd=True, opener=None)\n",
      "    Open file and return a stream.  Raise IOError upon failure.\n",
      "    \n",
      "    file is either a text or byte string giving the name (and the path\n",
      "    if the file isn't in the current working directory) of the file to\n",
      "    be opened or an integer file descriptor of the file to be\n",
      "    wrapped. (If a file descriptor is given, it is closed when the\n",
      "    returned I/O object is closed, unless closefd is set to False.)\n",
      "    \n",
      "    mode is an optional string that specifies the mode in which the file\n",
      "    is opened. It defaults to 'r' which means open for reading in text\n",
      "    mode.  Other common values are 'w' for writing (truncating the file if\n",
      "    it already exists), 'x' for creating and writing to a new file, and\n",
      "    'a' for appending (which on some Unix systems, means that all writes\n",
      "    append to the end of the file regardless of the current seek position).\n",
      "    In text mode, if encoding is not specified the encoding used is platform\n",
      "    dependent: locale.getpreferredencoding(False) is called to get the\n",
      "    current locale encoding. (For reading and writing raw bytes use binary\n",
      "    mode and leave encoding unspecified.) The available modes are:\n",
      "    \n",
      "    ========= ===============================================================\n",
      "    Character Meaning\n",
      "    --------- ---------------------------------------------------------------\n",
      "    'r'       open for reading (default)\n",
      "    'w'       open for writing, truncating the file first\n",
      "    'x'       create a new file and open it for writing\n",
      "    'a'       open for writing, appending to the end of the file if it exists\n",
      "    'b'       binary mode\n",
      "    't'       text mode (default)\n",
      "    '+'       open a disk file for updating (reading and writing)\n",
      "    'U'       universal newline mode (deprecated)\n",
      "    ========= ===============================================================\n",
      "    \n",
      "    The default mode is 'rt' (open for reading text). For binary random\n",
      "    access, the mode 'w+b' opens and truncates the file to 0 bytes, while\n",
      "    'r+b' opens the file without truncation. The 'x' mode implies 'w' and\n",
      "    raises an `FileExistsError` if the file already exists.\n",
      "    \n",
      "    Python distinguishes between files opened in binary and text modes,\n",
      "    even when the underlying operating system doesn't. Files opened in\n",
      "    binary mode (appending 'b' to the mode argument) return contents as\n",
      "    bytes objects without any decoding. In text mode (the default, or when\n",
      "    't' is appended to the mode argument), the contents of the file are\n",
      "    returned as strings, the bytes having been first decoded using a\n",
      "    platform-dependent encoding or using the specified encoding if given.\n",
      "    \n",
      "    'U' mode is deprecated and will raise an exception in future versions\n",
      "    of Python.  It has no effect in Python 3.  Use newline to control\n",
      "    universal newlines mode.\n",
      "    \n",
      "    buffering is an optional integer used to set the buffering policy.\n",
      "    Pass 0 to switch buffering off (only allowed in binary mode), 1 to select\n",
      "    line buffering (only usable in text mode), and an integer > 1 to indicate\n",
      "    the size of a fixed-size chunk buffer.  When no buffering argument is\n",
      "    given, the default buffering policy works as follows:\n",
      "    \n",
      "    * Binary files are buffered in fixed-size chunks; the size of the buffer\n",
      "      is chosen using a heuristic trying to determine the underlying device's\n",
      "      \"block size\" and falling back on `io.DEFAULT_BUFFER_SIZE`.\n",
      "      On many systems, the buffer will typically be 4096 or 8192 bytes long.\n",
      "    \n",
      "    * \"Interactive\" text files (files for which isatty() returns True)\n",
      "      use line buffering.  Other text files use the policy described above\n",
      "      for binary files.\n",
      "    \n",
      "    encoding is the name of the encoding used to decode or encode the\n",
      "    file. This should only be used in text mode. The default encoding is\n",
      "    platform dependent, but any encoding supported by Python can be\n",
      "    passed.  See the codecs module for the list of supported encodings.\n",
      "    \n",
      "    errors is an optional string that specifies how encoding errors are to\n",
      "    be handled---this argument should not be used in binary mode. Pass\n",
      "    'strict' to raise a ValueError exception if there is an encoding error\n",
      "    (the default of None has the same effect), or pass 'ignore' to ignore\n",
      "    errors. (Note that ignoring encoding errors can lead to data loss.)\n",
      "    See the documentation for codecs.register or run 'help(codecs.Codec)'\n",
      "    for a list of the permitted encoding error strings.\n",
      "    \n",
      "    newline controls how universal newlines works (it only applies to text\n",
      "    mode). It can be None, '', '\\n', '\\r', and '\\r\\n'.  It works as\n",
      "    follows:\n",
      "    \n",
      "    * On input, if newline is None, universal newlines mode is\n",
      "      enabled. Lines in the input can end in '\\n', '\\r', or '\\r\\n', and\n",
      "      these are translated into '\\n' before being returned to the\n",
      "      caller. If it is '', universal newline mode is enabled, but line\n",
      "      endings are returned to the caller untranslated. If it has any of\n",
      "      the other legal values, input lines are only terminated by the given\n",
      "      string, and the line ending is returned to the caller untranslated.\n",
      "    \n",
      "    * On output, if newline is None, any '\\n' characters written are\n",
      "      translated to the system default line separator, os.linesep. If\n",
      "      newline is '' or '\\n', no translation takes place. If newline is any\n",
      "      of the other legal values, any '\\n' characters written are translated\n",
      "      to the given string.\n",
      "    \n",
      "    If closefd is False, the underlying file descriptor will be kept open\n",
      "    when the file is closed. This does not work when a file name is given\n",
      "    and must be True in that case.\n",
      "    \n",
      "    A custom opener can be used by passing a callable as *opener*. The\n",
      "    underlying file descriptor for the file object is then obtained by\n",
      "    calling *opener* with (*file*, *flags*). *opener* must return an open\n",
      "    file descriptor (passing os.open as *opener* results in functionality\n",
      "    similar to passing None).\n",
      "    \n",
      "    open() returns a file object whose type depends on the mode, and\n",
      "    through which the standard file operations such as reading and writing\n",
      "    are performed. When open() is used to open a file in a text mode ('w',\n",
      "    'r', 'wt', 'rt', etc.), it returns a TextIOWrapper. When used to open\n",
      "    a file in a binary mode, the returned class varies: in read binary\n",
      "    mode, it returns a BufferedReader; in write binary and append binary\n",
      "    modes, it returns a BufferedWriter, and in read/write mode, it returns\n",
      "    a BufferedRandom.\n",
      "    \n",
      "    It is also possible to use a string or bytearray as a file for both\n",
      "    reading and writing. For strings StringIO can be used like a file\n",
      "    opened in a text mode, and for bytes a BytesIO can be used like a file\n",
      "    opened in a binary mode.\n",
      "\n"
     ]
    }
   ],
   "source": [
    "help(open)"
   ]
  },
  {
   "cell_type": "code",
   "execution_count": 84,
   "metadata": {},
   "outputs": [
    {
     "data": {
      "text/plain": [
       "<_io.TextIOWrapper name='./label_id.json' mode='r' encoding='UTF-8'>"
      ]
     },
     "execution_count": 84,
     "metadata": {},
     "output_type": "execute_result"
    }
   ],
   "source": [
    "open('./label_id.json')"
   ]
  },
  {
   "cell_type": "code",
   "execution_count": 86,
   "metadata": {},
   "outputs": [
    {
     "data": {
      "text/plain": [
       "(['_CHUNK_SIZE',\n",
       "  '__class__',\n",
       "  '__del__',\n",
       "  '__delattr__',\n",
       "  '__dict__',\n",
       "  '__dir__',\n",
       "  '__doc__',\n",
       "  '__enter__',\n",
       "  '__eq__',\n",
       "  '__exit__',\n",
       "  '__format__',\n",
       "  '__ge__',\n",
       "  '__getattribute__',\n",
       "  '__getstate__',\n",
       "  '__gt__',\n",
       "  '__hash__',\n",
       "  '__init__',\n",
       "  '__init_subclass__',\n",
       "  '__iter__',\n",
       "  '__le__',\n",
       "  '__lt__',\n",
       "  '__ne__',\n",
       "  '__new__',\n",
       "  '__next__',\n",
       "  '__reduce__',\n",
       "  '__reduce_ex__',\n",
       "  '__repr__',\n",
       "  '__setattr__',\n",
       "  '__sizeof__',\n",
       "  '__str__',\n",
       "  '__subclasshook__',\n",
       "  '_checkClosed',\n",
       "  '_checkReadable',\n",
       "  '_checkSeekable',\n",
       "  '_checkWritable',\n",
       "  '_finalizing',\n",
       "  'buffer',\n",
       "  'close',\n",
       "  'closed',\n",
       "  'detach',\n",
       "  'encoding',\n",
       "  'errors',\n",
       "  'fileno',\n",
       "  'flush',\n",
       "  'isatty',\n",
       "  'line_buffering',\n",
       "  'mode',\n",
       "  'name',\n",
       "  'newlines',\n",
       "  'read',\n",
       "  'readable',\n",
       "  'readline',\n",
       "  'readlines',\n",
       "  'seek',\n",
       "  'seekable',\n",
       "  'tell',\n",
       "  'truncate',\n",
       "  'writable',\n",
       "  'write',\n",
       "  'writelines'],\n",
       " None)"
      ]
     },
     "execution_count": 86,
     "metadata": {},
     "output_type": "execute_result"
    }
   ],
   "source": [
    "f = open('./label_id.json')\n",
    "dir(f),f.close()\n",
    "# readline \n",
    "# readlines"
   ]
  },
  {
   "cell_type": "code",
   "execution_count": 87,
   "metadata": {},
   "outputs": [
    {
     "name": "stdout",
     "output_type": "stream",
     "text": [
      "{'高中_地理': 0, '高中_历史': 1, '高中_生物': 2, '高中_政治': 3, '高中_政治_公民道德与伦理常识': 4, '高中_历史_近代史': 5, '高中_历史_现代史': 6, '高中_地理_人口与城市': 7, '高中_地理_宇宙中的地球': 8, '高中_生物_分子与细胞': 9, '高中_生物_稳态与环境': 10, '高中_生物_生物技术实践': 11, '高中_生物_生物科学与社会': 12}\n"
     ]
    }
   ],
   "source": [
    "f = open('./label_id.json')\n",
    "print(f.readline())\n",
    "f.close()"
   ]
  },
  {
   "cell_type": "code",
   "execution_count": 89,
   "metadata": {},
   "outputs": [
    {
     "name": "stdout",
     "output_type": "stream",
     "text": [
      "2015年6月29日，郑州市召开社会信用体系建设工作会议，总结近年来的社会信用体系建设情况，安排部署下一阶段工作。建设社会信用体系需要（）。①消费者加大对失信行为的打击力度②企业经营者遵循诚信原则③消费者敢于拿起法律武器维护自身合法权益④充分发挥市场对资源配置的决定作用A②③B①③C①②D②④\n",
      "\n"
     ]
    }
   ],
   "source": [
    "# 使用with 省略 close\n",
    "\n",
    "with open('../multi_label/data/kkb/x.txt') as f:\n",
    "    for line in f.readlines():\n",
    "        print(line)\n",
    "        break\n",
    "        # 不用写 close"
   ]
  },
  {
   "cell_type": "code",
   "execution_count": 98,
   "metadata": {},
   "outputs": [
    {
     "name": "stdout",
     "output_type": "stream",
     "text": [
      "2015年6月29日，郑州市召开社会信用体系建设工作会议，总结近年来的社会信用体系建设情况，安排部署下一阶段工作。建设社会信用体系需要（）。①消费者加大对失信行为的打击力度②企业经营者遵循诚信原则③消费者敢于拿起法律武器维护自身合法权益④充分发挥市场对资源配置的决定作用A②③B①③C①②D②④\n",
      "\n"
     ]
    }
   ],
   "source": [
    "# 返回List 没行是一个元素\n",
    "txt = open('../multi_label/data/kkb/x.txt').readlines()\n",
    "print(txt[0])"
   ]
  },
  {
   "cell_type": "markdown",
   "metadata": {},
   "source": [
    "上面代码等同于\n",
    "``` python\n",
    "open('../multi_label/data/kkb/x.txt', 'r', encoding='utf8')\n",
    "```\n",
    "可以使用notepadd++查看文本的编码  "
   ]
  },
  {
   "cell_type": "markdown",
   "metadata": {},
   "source": [
    "再来看写文件"
   ]
  },
  {
   "cell_type": "code",
   "execution_count": 99,
   "metadata": {},
   "outputs": [
    {
     "name": "stdout",
     "output_type": "stream",
     "text": [
      "Done\n"
     ]
    }
   ],
   "source": [
    "with open('./demo.txt', 'w') as f:\n",
    "    f.write('123')\n",
    "    \n",
    "print('Done')"
   ]
  },
  {
   "cell_type": "code",
   "execution_count": 103,
   "metadata": {},
   "outputs": [],
   "source": [
    "import os\n",
    "file = r'./demo.txt'\n",
    "if not os.path.exists(file):\n",
    "    with open(file,'w') as f:\n",
    "        f.write('This file is generate by python!\\n') # 添加换行符\n",
    "else:\n",
    "    with open(file,'a') as f:\n",
    "        f.write('This String is appending by python!\\n')"
   ]
  },
  {
   "cell_type": "code",
   "execution_count": 105,
   "metadata": {},
   "outputs": [
    {
     "name": "stdout",
     "output_type": "stream",
     "text": [
      "csv file is generated!\n"
     ]
    }
   ],
   "source": [
    "dataset = \\\n",
    "\"\"\"编号,色泽,根蒂,敲声,纹理,脐部,触感,密度,含糖率,好瓜\n",
    "1,青绿,蜷缩,浊响,清晰,凹陷,硬滑,0.697,0.460,是\n",
    "2,乌黑,蜷缩,沉闷,清晰,凹陷,硬滑,0.774,0.376,是\n",
    "3,乌黑,蜷缩,浊响,清晰,凹陷,硬滑,0.634,0.264,是\n",
    "4,青绿,蜷缩,沉闷,清晰,凹陷,硬滑,0.608,0.318,是\n",
    "5,浅白,蜷缩,浊响,清晰,凹陷,硬滑,0.556,0.215,是\n",
    "6,青绿,稍蜷,浊响,清晰,稍凹,软粘,0.403,0.237,是\n",
    "7,乌黑,稍蜷,浊响,稍糊,稍凹,软粘,0.481,0.149,是\n",
    "8,乌黑,稍蜷,浊响,清晰,稍凹,硬滑,0.437,0.211,是\n",
    "9,乌黑,稍蜷,沉闷,稍糊,稍凹,硬滑,0.666,0.091,否\n",
    "10,青绿,硬挺,清脆,清晰,平坦,软粘,0.243,0.267,否\n",
    "11,浅白,硬挺,清脆,模糊,平坦,硬滑,0.245,0.057,否\n",
    "12,浅白,蜷缩,浊响,模糊,平坦,软粘,0.343,0.099,否\n",
    "13,青绿,稍蜷,浊响,稍糊,凹陷,硬滑,0.639,0.161,否\n",
    "14,浅白,稍蜷,沉闷,稍糊,凹陷,硬滑,0.657,0.198,否\n",
    "15,乌黑,稍蜷,浊响,清晰,稍凹,软粘,0.360,0.370,否\n",
    "16,浅白,蜷缩,浊响,模糊,平坦,硬滑,0.593,0.042,否\n",
    "17,青绿,蜷缩,沉闷,稍糊,稍凹,硬滑,0.719,0.103,否\n",
    "\"\"\"\n",
    "\n",
    "with open('machine_learning.csv','w') as f:\n",
    "    f.write(dataset)\n",
    "print('csv file is generated!')"
   ]
  },
  {
   "cell_type": "code",
   "execution_count": 106,
   "metadata": {},
   "outputs": [
    {
     "data": {
      "text/html": [
       "<div>\n",
       "<style scoped>\n",
       "    .dataframe tbody tr th:only-of-type {\n",
       "        vertical-align: middle;\n",
       "    }\n",
       "\n",
       "    .dataframe tbody tr th {\n",
       "        vertical-align: top;\n",
       "    }\n",
       "\n",
       "    .dataframe thead th {\n",
       "        text-align: right;\n",
       "    }\n",
       "</style>\n",
       "<table border=\"1\" class=\"dataframe\">\n",
       "  <thead>\n",
       "    <tr style=\"text-align: right;\">\n",
       "      <th></th>\n",
       "      <th>编号</th>\n",
       "      <th>色泽</th>\n",
       "      <th>根蒂</th>\n",
       "      <th>敲声</th>\n",
       "      <th>纹理</th>\n",
       "      <th>脐部</th>\n",
       "      <th>触感</th>\n",
       "      <th>密度</th>\n",
       "      <th>含糖率</th>\n",
       "      <th>好瓜</th>\n",
       "    </tr>\n",
       "  </thead>\n",
       "  <tbody>\n",
       "    <tr>\n",
       "      <th>0</th>\n",
       "      <td>1</td>\n",
       "      <td>青绿</td>\n",
       "      <td>蜷缩</td>\n",
       "      <td>浊响</td>\n",
       "      <td>清晰</td>\n",
       "      <td>凹陷</td>\n",
       "      <td>硬滑</td>\n",
       "      <td>0.697</td>\n",
       "      <td>0.460</td>\n",
       "      <td>是</td>\n",
       "    </tr>\n",
       "    <tr>\n",
       "      <th>1</th>\n",
       "      <td>2</td>\n",
       "      <td>乌黑</td>\n",
       "      <td>蜷缩</td>\n",
       "      <td>沉闷</td>\n",
       "      <td>清晰</td>\n",
       "      <td>凹陷</td>\n",
       "      <td>硬滑</td>\n",
       "      <td>0.774</td>\n",
       "      <td>0.376</td>\n",
       "      <td>是</td>\n",
       "    </tr>\n",
       "    <tr>\n",
       "      <th>2</th>\n",
       "      <td>3</td>\n",
       "      <td>乌黑</td>\n",
       "      <td>蜷缩</td>\n",
       "      <td>浊响</td>\n",
       "      <td>清晰</td>\n",
       "      <td>凹陷</td>\n",
       "      <td>硬滑</td>\n",
       "      <td>0.634</td>\n",
       "      <td>0.264</td>\n",
       "      <td>是</td>\n",
       "    </tr>\n",
       "    <tr>\n",
       "      <th>3</th>\n",
       "      <td>4</td>\n",
       "      <td>青绿</td>\n",
       "      <td>蜷缩</td>\n",
       "      <td>沉闷</td>\n",
       "      <td>清晰</td>\n",
       "      <td>凹陷</td>\n",
       "      <td>硬滑</td>\n",
       "      <td>0.608</td>\n",
       "      <td>0.318</td>\n",
       "      <td>是</td>\n",
       "    </tr>\n",
       "    <tr>\n",
       "      <th>4</th>\n",
       "      <td>5</td>\n",
       "      <td>浅白</td>\n",
       "      <td>蜷缩</td>\n",
       "      <td>浊响</td>\n",
       "      <td>清晰</td>\n",
       "      <td>凹陷</td>\n",
       "      <td>硬滑</td>\n",
       "      <td>0.556</td>\n",
       "      <td>0.215</td>\n",
       "      <td>是</td>\n",
       "    </tr>\n",
       "  </tbody>\n",
       "</table>\n",
       "</div>"
      ],
      "text/plain": [
       "   编号  色泽  根蒂  敲声  纹理  脐部  触感     密度    含糖率 好瓜\n",
       "0   1  青绿  蜷缩  浊响  清晰  凹陷  硬滑  0.697  0.460  是\n",
       "1   2  乌黑  蜷缩  沉闷  清晰  凹陷  硬滑  0.774  0.376  是\n",
       "2   3  乌黑  蜷缩  浊响  清晰  凹陷  硬滑  0.634  0.264  是\n",
       "3   4  青绿  蜷缩  沉闷  清晰  凹陷  硬滑  0.608  0.318  是\n",
       "4   5  浅白  蜷缩  浊响  清晰  凹陷  硬滑  0.556  0.215  是"
      ]
     },
     "execution_count": 106,
     "metadata": {},
     "output_type": "execute_result"
    }
   ],
   "source": [
    "import pandas as pd\n",
    "df = pd.read_csv('./machine_learning.csv')\n",
    "df.head()"
   ]
  }
 ],
 "metadata": {
  "kernelspec": {
   "display_name": "ml",
   "language": "python",
   "name": "ml"
  },
  "language_info": {
   "codemirror_mode": {
    "name": "ipython",
    "version": 3
   },
   "file_extension": ".py",
   "mimetype": "text/x-python",
   "name": "python",
   "nbconvert_exporter": "python",
   "pygments_lexer": "ipython3",
   "version": "3.6.9"
  },
  "toc-autonumbering": false,
  "toc-showcode": false,
  "toc-showmarkdowntxt": false,
  "toc-showtags": false
 },
 "nbformat": 4,
 "nbformat_minor": 4
}
