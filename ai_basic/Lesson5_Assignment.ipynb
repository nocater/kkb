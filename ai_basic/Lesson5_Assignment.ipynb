{
 "cells": [
  {
   "cell_type": "markdown",
   "metadata": {},
   "source": [
    "各位同学，大家好!  欢迎各位开始学习我们的人工智能课程。  \n",
    "这门课程假设大家不具备机器学习和人工智能的知识，但是希望大家具备初级的Python编程能力。  \n",
    "这门课程结束后，希望大家掌握Python语言以及人工智能基础知识，对CV，NLP，RS领域有一定深入的理解与编程能力。"
   ]
  },
  {
   "cell_type": "markdown",
   "metadata": {},
   "source": [
    "# 本次作业要求"
   ]
  },
  {
   "cell_type": "markdown",
   "metadata": {},
   "source": [
    "## 作业形式"
   ]
  },
  {
   "cell_type": "markdown",
   "metadata": {},
   "source": [
    "复现课程代码  \n",
    "完成课后作业"
   ]
  },
  {
   "cell_type": "markdown",
   "metadata": {},
   "source": [
    "## 作业提交方式"
   ]
  },
  {
   "cell_type": "markdown",
   "metadata": {},
   "source": [
    "完成填写此`jupyter`文件，提交至自己的github，或通过KKB作业平台提交附件"
   ]
  },
  {
   "cell_type": "markdown",
   "metadata": {},
   "source": [
    "## 作业截止时间"
   ]
  },
  {
   "cell_type": "markdown",
   "metadata": {},
   "source": [
    "每次课程作业都会在下次课程(2019年11月8日)进行讲解，请在一周内尽快提交。  \n",
    "此次作业批改截止时间：2019年11月15日"
   ]
  },
  {
   "cell_type": "markdown",
   "metadata": {},
   "source": [
    "# 完成以下问答和编程练习"
   ]
  },
  {
   "cell_type": "markdown",
   "metadata": {},
   "source": [
    "**理论部分**\n",
    "1. 验证多重继承的属性规则，请选择\n",
    "- 就近原则\n",
    "- 随机原则\n",
    "- 类定义的先后原则"
   ]
  },
  {
   "cell_type": "code",
   "execution_count": null,
   "metadata": {},
   "outputs": [],
   "source": [
    "class A0:\n",
    "    name = 'A0'\n",
    "    \n",
    "class A2(A0):\n",
    "    num = 2\n",
    "    \n",
    "class A1:\n",
    "    num = 1\n",
    "    \n",
    "class A3:\n",
    "    name = 'A3'\n",
    "    \n",
    "class A4(A1,A2,A3):\n",
    "    pass\n",
    " \n",
    "ins = A4()\n",
    "print(ins.name) # 打印出A0\n",
    "print(ins.num) # 打印出1"
   ]
  },
  {
   "cell_type": "markdown",
   "metadata": {},
   "source": [
    "**编程实践部分**"
   ]
  },
  {
   "cell_type": "markdown",
   "metadata": {},
   "source": [
    "1. 完成ATM的类实现  \n",
    "将第二次课程的ATM机器改写成类实现"
   ]
  },
  {
   "cell_type": "markdown",
   "metadata": {},
   "source": [
    "2. 练习会先提供一个李靖类，用以记录人物角色的战斗力。需要你创建一个子类哪吒类，提供属性和参数的修改。  \n",
    "要求： 在哪吒的初始化方法中，默认添加`['混天绫', '乾坤圈']` 两个装备,以及初始化战斗力为50."
   ]
  },
  {
   "cell_type": "code",
   "execution_count": 14,
   "metadata": {},
   "outputs": [
    {
     "name": "stdout",
     "output_type": "stream",
     "text": [
      "[]\n",
      "60\n"
     ]
    }
   ],
   "source": [
    "# 代码不用修改，读懂后运行即可。\n",
    "class Lijing: # 李靖\n",
    "    # 初始化函数，为每个实例创建4个参数（其中后3个参数有默认值）\n",
    "    def __init__(self, name, weapons=[], power=10): \n",
    "        self.name = name\n",
    "        self.weapons = weapons\n",
    "        self.power = power\n",
    "\n",
    "    def count_fight(self, weapon, weapon_power):\n",
    "        self.weapons.append(weapon)\n",
    "        self.power += weapon_power  # 总战力=武器战力之和\n",
    "\n",
    "lijing = Lijing('李靖')\n",
    "print(lijing.weapons)\n",
    "lijing.count_fight('七宝玲珑塔', 50)  # 七宝玲珑塔 战力 50\n",
    "print(lijing.power)"
   ]
  }
 ],
 "metadata": {
  "kernelspec": {
   "display_name": "ml",
   "language": "python",
   "name": "ml"
  },
  "language_info": {
   "codemirror_mode": {
    "name": "ipython",
    "version": 3
   },
   "file_extension": ".py",
   "mimetype": "text/x-python",
   "name": "python",
   "nbconvert_exporter": "python",
   "pygments_lexer": "ipython3",
   "version": "3.6.9"
  }
 },
 "nbformat": 4,
 "nbformat_minor": 4
}
