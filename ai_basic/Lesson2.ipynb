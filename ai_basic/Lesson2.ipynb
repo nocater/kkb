{
 "cells": [
  {
   "cell_type": "markdown",
   "metadata": {
    "toc-hr-collapsed": false
   },
   "source": [
    "# 容器\n",
    "1. 列表\n",
    "2. 元组\n",
    "3. 集合\n",
    "4. 字典"
   ]
  },
  {
   "cell_type": "markdown",
   "metadata": {},
   "source": [
    "## 列表"
   ]
  },
  {
   "cell_type": "markdown",
   "metadata": {},
   "source": [
    "比如我们平常上课，老师要点名。  \n",
    "假如我们班有五个人，张一，张二......一直到张五。  \n",
    "那么每个人喊道应该是下面代码"
   ]
  },
  {
   "cell_type": "code",
   "execution_count": 2,
   "metadata": {},
   "outputs": [
    {
     "name": "stdout",
     "output_type": "stream",
     "text": [
      "张一到！\n",
      "张二到！\n",
      "张三到！\n",
      "张四到！\n",
      "张五到！\n"
     ]
    }
   ],
   "source": [
    "student1 = '张一'\n",
    "student2 = '张二'\n",
    "student3 = '张三'\n",
    "student4 = '张四'\n",
    "student5 = '张五'\n",
    "\n",
    "print(student1+'到！')\n",
    "print(student2+'到！')\n",
    "print(student3+'到！')\n",
    "print(student4+'到！')\n",
    "print(student5+'到！')"
   ]
  },
  {
   "cell_type": "markdown",
   "metadata": {},
   "source": [
    "这时候呢，写的非常麻烦。  \n",
    "而我们点名都是拿到一个班级的花名册来点名。  \n",
    "这个花名册是把这个班级的名称都放在了一起。  \n",
    "那么python里怎么表示班级这个学生花名册呢？  \n",
    "可以用**列表**！"
   ]
  },
  {
   "cell_type": "markdown",
   "metadata": {},
   "source": [
    "列表的格式：\n",
    "``` python\n",
    "['张一','张二','张三','张四','张五']\n",
    "```\n",
    "\n",
    "关键点：**中括号**，**逗号**  \n",
    "\n",
    "然后我们把这个对象保存到变量上\n",
    "``` python\n",
    "class_1 = ['张一','张二','张三','张四','张五']\n",
    "```"
   ]
  },
  {
   "cell_type": "code",
   "execution_count": 4,
   "metadata": {},
   "outputs": [
    {
     "name": "stdout",
     "output_type": "stream",
     "text": [
      "['张一', '张二', '张三', '张四', '张五']\n"
     ]
    }
   ],
   "source": [
    "class_1 = ['张一','张二','张三','张四','张五']\n",
    "print(class_1)"
   ]
  },
  {
   "cell_type": "markdown",
   "metadata": {},
   "source": [
    "有个这个列表对象，  \n",
    "代码少了很多，那我们怎么取到里面的东西呢"
   ]
  },
  {
   "cell_type": "markdown",
   "metadata": {},
   "source": [
    "首先，列表理解成一个连续的格子，然后每个格子都放了东西。  \n",
    "当然，这一系列的格子都有东西放。  \n",
    "每个格子都有一个标号，有了标号，我们找东西就可以直接说  \n",
    "*帮我拿一下第三个格子里的东西！*  \n",
    "然后你就数格子，数到第三个格子，你就把里面的东西拿出来。"
   ]
  },
  {
   "cell_type": "markdown",
   "metadata": {},
   "source": [
    "列表的工作原理就是一个连续的格子，想拿里面的对象，你就告诉列表你要的标号就行了。  \n",
    "不过需要注意的是  \n",
    "在编程语言世界里，第一个标号，是0！"
   ]
  },
  {
   "cell_type": "code",
   "execution_count": 8,
   "metadata": {},
   "outputs": [
    {
     "data": {
      "text/plain": [
       "'张一'"
      ]
     },
     "execution_count": 8,
     "metadata": {},
     "output_type": "execute_result"
    }
   ],
   "source": [
    "class_1 = ['张一','张二','张三','张四','张五']\n",
    "class_1[0]"
   ]
  },
  {
   "cell_type": "code",
   "execution_count": 10,
   "metadata": {},
   "outputs": [
    {
     "name": "stdout",
     "output_type": "stream",
     "text": [
      "张一到！\n",
      "张二到！\n",
      "张三到！\n",
      "张四到！\n",
      "张五到！\n"
     ]
    }
   ],
   "source": [
    "# 将上面的代码重写下就是\n",
    "\n",
    "class_1 = ['张一','张二','张三','张四','张五']\n",
    "print(class_1[0]+'到！')\n",
    "print(class_1[1]+'到！')\n",
    "print(class_1[2]+'到！')\n",
    "print(class_1[3]+'到！')\n",
    "print(class_1[4]+'到！')\n",
    "\n",
    "# 所以最大的标号(索引, index)是长度-1"
   ]
  },
  {
   "cell_type": "markdown",
   "metadata": {},
   "source": [
    "上面是说每次都知道了一个学生的名字。  \n",
    "那假如我想知道花名册最后两个人来没来呢？  \n",
    "我们首先想到的是先到花名册最后，然后数出两个人然后再把这两个人名字拿到。  \n",
    "再稍微转换成编程思想，你应该能想到的。  \n",
    "首先我们有五个人，取到最后两个人，所以我应该从第4个人开始取，取两个人  \n",
    "因为编程里Index是要-1，所以应该取3 4两个位置"
   ]
  },
  {
   "cell_type": "code",
   "execution_count": 27,
   "metadata": {},
   "outputs": [
    {
     "name": "stdout",
     "output_type": "stream",
     "text": [
      "张四到!\n",
      "张五到!\n"
     ]
    }
   ],
   "source": [
    "# 最后两个人到了没?\n",
    "\n",
    "class_1 = ['张一','张二','张三','张四','张五']\n",
    "print(class_1[3]+'到!')\n",
    "print(class_1[4]+'到!')"
   ]
  },
  {
   "cell_type": "code",
   "execution_count": 14,
   "metadata": {},
   "outputs": [
    {
     "name": "stdin",
     "output_type": "stream",
     "text": [
      " 3\n",
      " 2\n"
     ]
    },
    {
     "name": "stdout",
     "output_type": "stream",
     "text": [
      "张三到\n",
      "张四到\n"
     ]
    }
   ],
   "source": [
    "# 最后两个人到了没?\n",
    "\n",
    "start = int(input())\n",
    "nums = int(input())\n",
    "\n",
    "start_index = start-1\n",
    "print(class_1[start_index]+'到')\n",
    "print(class_1[start_index+1]+'到')"
   ]
  },
  {
   "cell_type": "markdown",
   "metadata": {},
   "source": [
    "那么问题来了！  \n",
    "Python作为一门强大的 高级的 简单的 编程语言，  \n",
    "怎么可能不提供一些更方便的操作呢？  \n",
    "答案当然是ok的"
   ]
  },
  {
   "cell_type": "markdown",
   "metadata": {},
   "source": [
    "``` python\n",
    "class_1 = ['张一','张二','张三','张四','张五']\n",
    "class_1[3:5]\n",
    "```\n",
    "列表[起始index : 末尾index(不包含)]"
   ]
  },
  {
   "cell_type": "code",
   "execution_count": 17,
   "metadata": {},
   "outputs": [
    {
     "data": {
      "text/plain": [
       "['张四', '张五']"
      ]
     },
     "execution_count": 17,
     "metadata": {},
     "output_type": "execute_result"
    }
   ],
   "source": [
    "# 注意 这里5是没有取到的\n",
    "# 所以是取 3 4\n",
    "class_1[3:5]"
   ]
  },
  {
   "cell_type": "code",
   "execution_count": 18,
   "metadata": {},
   "outputs": [
    {
     "ename": "IndexError",
     "evalue": "list index out of range",
     "output_type": "error",
     "traceback": [
      "\u001b[0;31m---------------------------------------------------------------------------\u001b[0m",
      "\u001b[0;31mIndexError\u001b[0m                                Traceback (most recent call last)",
      "\u001b[0;32m<ipython-input-18-98785943f54a>\u001b[0m in \u001b[0;36m<module>\u001b[0;34m\u001b[0m\n\u001b[1;32m      1\u001b[0m \u001b[0;31m# 如果直接取5会报错\u001b[0m\u001b[0;34m\u001b[0m\u001b[0;34m\u001b[0m\u001b[0;34m\u001b[0m\u001b[0m\n\u001b[0;32m----> 2\u001b[0;31m \u001b[0mclass_1\u001b[0m\u001b[0;34m[\u001b[0m\u001b[0;36m5\u001b[0m\u001b[0;34m]\u001b[0m\u001b[0;34m\u001b[0m\u001b[0;34m\u001b[0m\u001b[0m\n\u001b[0m",
      "\u001b[0;31mIndexError\u001b[0m: list index out of range"
     ]
    }
   ],
   "source": [
    "# 如果直接取5会报错\n",
    "class_1[5]"
   ]
  },
  {
   "cell_type": "markdown",
   "metadata": {},
   "source": [
    "只有5个 大于5的都有问题  \n",
    "那么问题来了如果你放个负数呢?"
   ]
  },
  {
   "cell_type": "code",
   "execution_count": 20,
   "metadata": {},
   "outputs": [
    {
     "data": {
      "text/plain": [
       "'张五'"
      ]
     },
     "execution_count": 20,
     "metadata": {},
     "output_type": "execute_result"
    }
   ],
   "source": [
    "class_1[-1]"
   ]
  },
  {
   "cell_type": "markdown",
   "metadata": {},
   "source": [
    "看到没  居然没有出错！  \n",
    "所以这就是python又简单又强大"
   ]
  },
  {
   "cell_type": "code",
   "execution_count": 22,
   "metadata": {},
   "outputs": [
    {
     "name": "stdout",
     "output_type": "stream",
     "text": [
      "张五\n",
      "张四\n",
      "张三\n",
      "张二\n",
      "张一\n"
     ]
    }
   ],
   "source": [
    "print(class_1[-1])\n",
    "print(class_1[-2])\n",
    "print(class_1[-3])\n",
    "print(class_1[-4])\n",
    "print(class_1[-5])"
   ]
  },
  {
   "cell_type": "code",
   "execution_count": 23,
   "metadata": {},
   "outputs": [
    {
     "data": {
      "text/plain": [
       "['张四', '张五']"
      ]
     },
     "execution_count": 23,
     "metadata": {},
     "output_type": "execute_result"
    }
   ],
   "source": [
    "# 那么刚才的代码就能写成这样\n",
    "class_1[-2:]"
   ]
  },
  {
   "cell_type": "markdown",
   "metadata": {},
   "source": [
    "那么新需求又来了  \n",
    "新来了转班生该怎么办?辍学了的同学应该怎么处理？同学名字错了怎么办？"
   ]
  },
  {
   "cell_type": "code",
   "execution_count": 28,
   "metadata": {},
   "outputs": [],
   "source": [
    "class_1.append('张溜')"
   ]
  },
  {
   "cell_type": "code",
   "execution_count": 29,
   "metadata": {},
   "outputs": [
    {
     "name": "stdout",
     "output_type": "stream",
     "text": [
      "['张一', '张二', '张三', '张四', '张五', '张溜']\n"
     ]
    }
   ],
   "source": [
    "print(class_1)"
   ]
  },
  {
   "cell_type": "code",
   "execution_count": 30,
   "metadata": {},
   "outputs": [
    {
     "name": "stdout",
     "output_type": "stream",
     "text": [
      "['张一', '张二', '张三', '张四', '张五', '张六']\n"
     ]
    }
   ],
   "source": [
    "class_1[-1] = '张六'\n",
    "print(class_1)"
   ]
  },
  {
   "cell_type": "code",
   "execution_count": 33,
   "metadata": {},
   "outputs": [
    {
     "data": {
      "text/plain": [
       "['张一', '张二', '张三', '张四', '张五', '张六', '张七']"
      ]
     },
     "execution_count": 33,
     "metadata": {},
     "output_type": "execute_result"
    }
   ],
   "source": [
    "class_1+['张七']"
   ]
  },
  {
   "cell_type": "markdown",
   "metadata": {},
   "source": [
    "``` python\n",
    "remove('里面的对象')\n",
    "```\n",
    "如果没有，会报错"
   ]
  },
  {
   "cell_type": "code",
   "execution_count": 34,
   "metadata": {},
   "outputs": [
    {
     "name": "stdout",
     "output_type": "stream",
     "text": [
      "['张一', '张二', '张三', '张四', '张五']\n"
     ]
    }
   ],
   "source": [
    "class_1.remove('张六')\n",
    "print(class_1)"
   ]
  },
  {
   "cell_type": "markdown",
   "metadata": {},
   "source": [
    "``` python\n",
    "pop(index)\n",
    "```\n",
    "pop方法需要传入index值"
   ]
  },
  {
   "cell_type": "code",
   "execution_count": 35,
   "metadata": {},
   "outputs": [
    {
     "name": "stdout",
     "output_type": "stream",
     "text": [
      "['张一', '张三', '张四', '张五']\n"
     ]
    }
   ],
   "source": [
    "class_1 = ['张一', '张二', '张三', '张四', '张五']\n",
    "class_1.pop(1)\n",
    "print(class_1)"
   ]
  },
  {
   "cell_type": "markdown",
   "metadata": {},
   "source": [
    "总结下列表的使用：  \n",
    "- 列表\n",
    "- 列表的使用：单值&多值(切片)\n",
    "- 列表的添加\n",
    "- 列表的删除\n",
    "- 列表的修改\n",
    "\n",
    "高阶用法：\n",
    "列表反转, 列表解析，extend"
   ]
  },
  {
   "cell_type": "markdown",
   "metadata": {},
   "source": [
    "## 元组"
   ]
  },
  {
   "cell_type": "markdown",
   "metadata": {},
   "source": [
    "元组跟列表很像  \n",
    "唯一的区别是  \n",
    "元组在创建完成后不能修改"
   ]
  },
  {
   "cell_type": "code",
   "execution_count": 38,
   "metadata": {},
   "outputs": [
    {
     "name": "stdout",
     "output_type": "stream",
     "text": [
      "('张一', '张二', '张三', '张四', '张五')\n"
     ]
    }
   ],
   "source": [
    "class_2 = ('张一', '张二', '张三', '张四', '张五')\n",
    "print(class_2)"
   ]
  },
  {
   "cell_type": "code",
   "execution_count": 40,
   "metadata": {},
   "outputs": [
    {
     "data": {
      "text/plain": [
       "'张一'"
      ]
     },
     "execution_count": 40,
     "metadata": {},
     "output_type": "execute_result"
    }
   ],
   "source": [
    "class_2[0]"
   ]
  },
  {
   "cell_type": "code",
   "execution_count": 41,
   "metadata": {},
   "outputs": [
    {
     "ename": "TypeError",
     "evalue": "'tuple' object does not support item assignment",
     "output_type": "error",
     "traceback": [
      "\u001b[0;31m---------------------------------------------------------------------------\u001b[0m",
      "\u001b[0;31mTypeError\u001b[0m                                 Traceback (most recent call last)",
      "\u001b[0;32m<ipython-input-41-f74e4e2b6a51>\u001b[0m in \u001b[0;36m<module>\u001b[0;34m\u001b[0m\n\u001b[0;32m----> 1\u001b[0;31m \u001b[0mclass_2\u001b[0m\u001b[0;34m[\u001b[0m\u001b[0;36m0\u001b[0m\u001b[0;34m]\u001b[0m \u001b[0;34m=\u001b[0m \u001b[0;34m'新张三'\u001b[0m\u001b[0;34m\u001b[0m\u001b[0;34m\u001b[0m\u001b[0m\n\u001b[0m",
      "\u001b[0;31mTypeError\u001b[0m: 'tuple' object does not support item assignment"
     ]
    }
   ],
   "source": [
    "class_2[0] = '新张三'"
   ]
  },
  {
   "cell_type": "code",
   "execution_count": 39,
   "metadata": {},
   "outputs": [
    {
     "ename": "AttributeError",
     "evalue": "'tuple' object has no attribute 'append'",
     "output_type": "error",
     "traceback": [
      "\u001b[0;31m---------------------------------------------------------------------------\u001b[0m",
      "\u001b[0;31mAttributeError\u001b[0m                            Traceback (most recent call last)",
      "\u001b[0;32m<ipython-input-39-ac0a87a6a90a>\u001b[0m in \u001b[0;36m<module>\u001b[0;34m\u001b[0m\n\u001b[0;32m----> 1\u001b[0;31m \u001b[0mclass_2\u001b[0m\u001b[0;34m.\u001b[0m\u001b[0mappend\u001b[0m\u001b[0;34m(\u001b[0m\u001b[0;34m'张六'\u001b[0m\u001b[0;34m)\u001b[0m\u001b[0;34m\u001b[0m\u001b[0;34m\u001b[0m\u001b[0m\n\u001b[0m",
      "\u001b[0;31mAttributeError\u001b[0m: 'tuple' object has no attribute 'append'"
     ]
    }
   ],
   "source": [
    "class_2.append('张六')"
   ]
  },
  {
   "cell_type": "markdown",
   "metadata": {},
   "source": [
    "## 集合"
   ]
  },
  {
   "cell_type": "code",
   "execution_count": 43,
   "metadata": {},
   "outputs": [],
   "source": [
    "class_1 = ['张一', '张二', '张三', '张四', '张五', '张二']\n",
    "class_2 = ('张一', '张二', '张三', '张四', '张五', '张二')"
   ]
  },
  {
   "cell_type": "code",
   "execution_count": 48,
   "metadata": {},
   "outputs": [
    {
     "name": "stdout",
     "output_type": "stream",
     "text": [
      "{'张三', '张二', '张五', '张四', '张一'}\n"
     ]
    }
   ],
   "source": [
    "class_3 = {'张一', '张二', '张三', '张四', '张五', '张二'}\n",
    "print(class_3)"
   ]
  },
  {
   "cell_type": "markdown",
   "metadata": {},
   "source": [
    "集合的特点是啥?  \n",
    "是不能够放重复的东西！  \n",
    "\n",
    "比如我要统计一段文本中的字，组成一个词典"
   ]
  },
  {
   "cell_type": "code",
   "execution_count": 56,
   "metadata": {},
   "outputs": [
    {
     "name": "stdout",
     "output_type": "stream",
     "text": [
      "西汉桑弘羊主持的盐铁官营，在各郡设盐铁官署，严禁私人生产，“敢私铸铁器，煮盐者，钛左趾，没人其器物”。这反映了汉武帝时期政府增加财政收人的迫切需要。构成这段文字的是（）A历史观点和历史解释B历史观点和历史结论C历史结论和历史解释D历史叙述和历史解释\n",
      "这段话一共有 80 个单词\n"
     ]
    }
   ],
   "source": [
    "s = ['西汉', '桑弘羊', '主持', '的', '盐', '铁官营', '，', '在', '各', '郡', '设', '盐铁', '官署', '，', '严禁', '私人', '生产', '，', '“', '敢', '私', '铸铁', '器', '，', '煮', '盐者', '，', '钛', '左', '趾', '，', '没人', '其', '器物', '”', '。', '这', '反映', '了', '汉武帝', '时期', '政府', '增加', '财政', '收人', '的', '迫切需要', '。', '构成', '这', '段', '文字', '的', '是', '（', '）', 'A', '历史', '观点', '和', '历史', '解释', 'B', '历史', '观点', '和', '历史', '结论', 'C', '历史', '结论', '和', '历史', '解释', 'D', '历史', '叙述', '和', '历史', '解释']\n",
    "print(''.join(s))\n",
    "\n",
    "print('这段话一共有',len(s),'个单词')"
   ]
  },
  {
   "cell_type": "code",
   "execution_count": 52,
   "metadata": {},
   "outputs": [
    {
     "data": {
      "text/plain": [
       "57"
      ]
     },
     "execution_count": 52,
     "metadata": {},
     "output_type": "execute_result"
    }
   ],
   "source": [
    "len(set(s))"
   ]
  },
  {
   "cell_type": "markdown",
   "metadata": {},
   "source": [
    "集合最常用的操作就是用来去重！  \n",
    "当然，我们也能往里面添加元素  "
   ]
  },
  {
   "cell_type": "code",
   "execution_count": 62,
   "metadata": {},
   "outputs": [
    {
     "name": "stdout",
     "output_type": "stream",
     "text": [
      "{'死侍', '哆啦A梦', '哪吒'}\n"
     ]
    }
   ],
   "source": [
    "# 假设微博用户来给你文章投票\n",
    "# 我们可以用list来存储浏览历史\n",
    "# 不是看点击次数 而是看有多少人\n",
    "# 那么就不能用list\n",
    "student_nos = set()\n",
    "\n",
    "student_nos.add('哆啦A梦')\n",
    "student_nos.add('哪吒')\n",
    "student_nos.add('死侍')\n",
    "student_nos.add('死侍')\n",
    "print(student_nos)"
   ]
  },
  {
   "cell_type": "markdown",
   "metadata": {},
   "source": [
    "这个知识点理解了吗？  \n",
    "理解的口1 没有的扣2  \n",
    "我们就拿你们的聊天记录来做个练习  \n",
    "我先处理一下你们的聊天内容  \n",
    "如果集合只有1，就代表着所有人都会了 对吧\n",
    "\n",
    "\n",
    "好 这是你们的list\n",
    "我们来set一下"
   ]
  }
 ],
 "metadata": {
  "kernelspec": {
   "display_name": "ml",
   "language": "python",
   "name": "ml"
  },
  "language_info": {
   "codemirror_mode": {
    "name": "ipython",
    "version": 3
   },
   "file_extension": ".py",
   "mimetype": "text/x-python",
   "name": "python",
   "nbconvert_exporter": "python",
   "pygments_lexer": "ipython3",
   "version": "3.6.9"
  },
  "toc-showcode": false,
  "toc-showtags": false
 },
 "nbformat": 4,
 "nbformat_minor": 4
}
