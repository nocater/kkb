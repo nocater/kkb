{
 "cells": [
  {
   "cell_type": "code",
   "execution_count": 2,
   "metadata": {},
   "outputs": [],
   "source": [
    "import fasttext\n",
    "import logging\n",
    "import numpy as np"
   ]
  },
  {
   "cell_type": "code",
   "execution_count": 2,
   "metadata": {},
   "outputs": [],
   "source": [
    "# logging.basicConfig(format='%(asctime)s : %(levelname)s : %(message)s', level=logging.INFO)"
   ]
  },
  {
   "cell_type": "markdown",
   "metadata": {},
   "source": [
    "# 数据处理\n",
    "\n",
    "处理百度数据为fasttxt可接收格式"
   ]
  },
  {
   "cell_type": "markdown",
   "metadata": {},
   "source": [
    "## 非知识点多标签数据"
   ]
  },
  {
   "cell_type": "code",
   "execution_count": 3,
   "metadata": {},
   "outputs": [
    {
     "data": {
      "text/plain": [
       "{'高中_地理': 0,\n",
       " '高中_历史': 1,\n",
       " '高中_生物': 2,\n",
       " '高中_政治': 3,\n",
       " '高中_政治_经济学常识': 4,\n",
       " '高中_政治_科学社会主义常识': 5,\n",
       " '高中_政治_公民道德与伦理常识': 6,\n",
       " '高中_历史_古代史': 7,\n",
       " '高中_历史_近代史': 8,\n",
       " '高中_历史_现代史': 9,\n",
       " '高中_地理_人口与城市': 10,\n",
       " '高中_地理_生产活动与地域联系': 11,\n",
       " '高中_地理_宇宙中的地球': 12,\n",
       " '高中_生物_分子与细胞': 13,\n",
       " '高中_生物_遗传与进化': 14,\n",
       " '高中_生物_稳态与环境': 15,\n",
       " '高中_生物_生物技术实践': 16,\n",
       " '高中_生物_生物科学与社会': 17,\n",
       " '高中_生物_现代生物技术专题': 18}"
      ]
     },
     "execution_count": 3,
     "metadata": {},
     "output_type": "execute_result"
    }
   ],
   "source": [
    "label2id = eval(open('./data/kkb/label_id_19.json', 'r').readlines()[0])\n",
    "id2label = {v:k for k,v in label2id.items()}\n",
    "label2id"
   ]
  },
  {
   "cell_type": "code",
   "execution_count": 4,
   "metadata": {},
   "outputs": [],
   "source": [
    "# Baidu 19 class\n",
    "x = open('./data/kkb/x_19.txt').readlines()\n",
    "y = eval(open('./data/kkb/y_19.txt').readlines()[0])\n",
    "\n",
    "prefix = '__label__'\n",
    "data = ''\n",
    "\n",
    "for i in range(len(y)):\n",
    "    labels = id2label[y[i][1]].split('_')\n",
    "    labels = [prefix+label for label in labels]\n",
    "    data += ' '.join(labels[1:]) + ' ' + x[i]\n",
    "\n",
    "\n",
    "data = data.split('\\n')\n",
    "np.random.shuffle(data)\n",
    "with open('./data/kkb/baidu_19.txt', 'w', encoding='utf8') as f:\n",
    "    f.write('\\n'.join(data))"
   ]
  },
  {
   "cell_type": "markdown",
   "metadata": {},
   "source": [
    "切分数据集"
   ]
  },
  {
   "cell_type": "code",
   "execution_count": 10,
   "metadata": {},
   "outputs": [],
   "source": [
    "# !head -n 19151 ./data/kkb/baidu_19.txt > ./data/kkb/baidu_19.train\n",
    "# !tail -n 3000 ./data/kkb/baidu_19.txt > ./data/kkb/baidu_19.valid"
   ]
  },
  {
   "cell_type": "markdown",
   "metadata": {},
   "source": [
    "## 知识点多标签数据"
   ]
  },
  {
   "cell_type": "markdown",
   "metadata": {},
   "source": [
    "切分数据集"
   ]
  },
  {
   "cell_type": "code",
   "execution_count": 29,
   "metadata": {},
   "outputs": [],
   "source": [
    "# !head -n 19576 ./data/kkb/fasttext/baidu_95__label__.txt > ./data/kkb/fasttext/baidu_95__label__.train\n",
    "# !tail -n 3000 ./data/kkb/fasttext/baidu_95__label__.txt > ./data/kkb/fasttext/baidu_95__label__.valid"
   ]
  },
  {
   "cell_type": "markdown",
   "metadata": {},
   "source": [
    "# 训练并验证"
   ]
  },
  {
   "cell_type": "code",
   "execution_count": 30,
   "metadata": {},
   "outputs": [],
   "source": [
    "train_file = r'./data/kkb/fasttext/baidu_95__label__.train'\n",
    "valid_file = r'./data/kkb/fasttext/baidu_95__label__.valid'"
   ]
  },
  {
   "cell_type": "code",
   "execution_count": 31,
   "metadata": {},
   "outputs": [
    {
     "data": {
      "text/plain": [
       "(0.7142857092857143, 0.7333333232222222)"
      ]
     },
     "execution_count": 31,
     "metadata": {},
     "output_type": "execute_result"
    }
   ],
   "source": [
    "def f1_np(y_true, y_pred):\n",
    "    \"\"\"F1 metric.\n",
    "    \n",
    "    Computes the micro_f1 and macro_f1, metrics for multi-label classification of\n",
    "    how many relevant items are selected.\n",
    "    \"\"\"\n",
    "    true_positives = np.sum(np.round(np.clip(y_true * y_pred, 0, 1)), axis=0)\n",
    "    predicted_positives = np.sum(np.round(np.clip(y_pred, 0, 1)), axis=0)\n",
    "    possible_positives = np.sum(np.round(np.clip(y_true, 0, 1)), axis=0)\n",
    "    \n",
    "    \"\"\"Macro_F1 metric.\n",
    "    \"\"\"\n",
    "    precision = true_positives/(predicted_positives+1e-8)\n",
    "    recall = true_positives/(possible_positives+1e-8)\n",
    "    macro_f1 = np.mean(2*precision*recall/(precision+recall+1e-8))\n",
    "        \n",
    "    \"\"\"Micro_F1 metric.\n",
    "    \"\"\"\n",
    "    precision = np.sum(true_positives)/np.sum(predicted_positives)\n",
    "    recall = np.sum(true_positives)/np.sum(possible_positives)\n",
    "    micro_f1 = 2*precision*recall/(precision+recall+1e-8)\n",
    "    return micro_f1, macro_f1\n",
    "    \n",
    "\n",
    "y_true = np.array([[1,0,1,1,0],[1,1,0,1,1]])\n",
    "y_pred = np.array([[0,1,1,1,0],[1,1,1,0,1]])\n",
    "\n",
    "f1_np(y_true, y_pred)"
   ]
  },
  {
   "cell_type": "markdown",
   "metadata": {},
   "source": [
    "训练模型  \n",
    "`help(fasttext)`,`help(model)`"
   ]
  },
  {
   "cell_type": "code",
   "execution_count": 32,
   "metadata": {},
   "outputs": [],
   "source": [
    "model = fasttext.train_supervised(input=train_file, epoch=1000, wordNgrams=5, bucket=200000, dim=50, loss='ova')"
   ]
  },
  {
   "cell_type": "markdown",
   "metadata": {},
   "source": [
    "验证模型"
   ]
  },
  {
   "cell_type": "code",
   "execution_count": 33,
   "metadata": {},
   "outputs": [],
   "source": [
    "label_true, label_pred = [], []\n",
    "with open(valid_file) as f:\n",
    "    for line in f.readlines():\n",
    "        labels = line.split()[:-1]\n",
    "        string = line.split()[-1]\n",
    "        predicts = model.predict(string, k=2)\n",
    "        label_true.append(set(labels))\n",
    "        label_pred.append(set(predicts[0]))"
   ]
  },
  {
   "cell_type": "markdown",
   "metadata": {},
   "source": [
    "评估模型"
   ]
  },
  {
   "cell_type": "code",
   "execution_count": 34,
   "metadata": {},
   "outputs": [
    {
     "data": {
      "text/plain": [
       "(0.4199475028119923, 0.23017252353009304)"
      ]
     },
     "execution_count": 34,
     "metadata": {},
     "output_type": "execute_result"
    }
   ],
   "source": [
    "from sklearn.preprocessing import MultiLabelBinarizer\n",
    "mlb = MultiLabelBinarizer()\n",
    "y_true = mlb.fit_transform(label_true)\n",
    "y_pred = mlb.transform(label_pred)\n",
    "f1_np(y_true, y_pred)"
   ]
  },
  {
   "cell_type": "markdown",
   "metadata": {},
   "source": [
    "结果  \n",
    "\n",
    "|标签|类别|icro_f1|macro_f1|参数|\n",
    "|:--:|:--:|:--:|:--:|:--:|\n",
    "|非知识点baidu | 19 | 0.424 | 0.206| - |\n",
    "|知识点baidu | 95 | 0.421 | 0.234| # epoch=1000, wordNgrams=5, bucket=200000, dim=50|"
   ]
  },
  {
   "cell_type": "markdown",
   "metadata": {},
   "source": [
    "保存模型"
   ]
  },
  {
   "cell_type": "code",
   "execution_count": 35,
   "metadata": {},
   "outputs": [],
   "source": [
    "model.save_model(\"./model/model_baidu_95.bin\")"
   ]
  }
 ],
 "metadata": {
  "kernelspec": {
   "display_name": "Python 3",
   "language": "python",
   "name": "python3"
  },
  "language_info": {
   "codemirror_mode": {
    "name": "ipython",
    "version": 3
   },
   "file_extension": ".py",
   "mimetype": "text/x-python",
   "name": "python",
   "nbconvert_exporter": "python",
   "pygments_lexer": "ipython3",
   "version": "3.6.8"
  }
 },
 "nbformat": 4,
 "nbformat_minor": 2
}
