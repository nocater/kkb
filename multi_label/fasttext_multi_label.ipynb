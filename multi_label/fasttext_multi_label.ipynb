{
 "cells": [
  {
   "cell_type": "code",
   "execution_count": 45,
   "metadata": {},
   "outputs": [],
   "source": [
    "import fasttext\n",
    "import logging\n",
    "import numpy as np"
   ]
  },
  {
   "cell_type": "code",
   "execution_count": 4,
   "metadata": {},
   "outputs": [],
   "source": [
    "logging.basicConfig(format='%(asctime)s : %(levelname)s : %(message)s', level=logging.INFO)"
   ]
  },
  {
   "cell_type": "markdown",
   "metadata": {},
   "source": [
    "# 数据处理\n",
    "\n",
    "处理百度数据为fasttxt可接收格式"
   ]
  },
  {
   "cell_type": "code",
   "execution_count": 33,
   "metadata": {},
   "outputs": [
    {
     "data": {
      "text/plain": [
       "{'高中_地理': 0,\n",
       " '高中_历史': 1,\n",
       " '高中_生物': 2,\n",
       " '高中_政治': 3,\n",
       " '高中_政治_经济学常识': 4,\n",
       " '高中_政治_科学社会主义常识': 5,\n",
       " '高中_政治_公民道德与伦理常识': 6,\n",
       " '高中_历史_古代史': 7,\n",
       " '高中_历史_近代史': 8,\n",
       " '高中_历史_现代史': 9,\n",
       " '高中_地理_人口与城市': 10,\n",
       " '高中_地理_生产活动与地域联系': 11,\n",
       " '高中_地理_宇宙中的地球': 12,\n",
       " '高中_生物_分子与细胞': 13,\n",
       " '高中_生物_遗传与进化': 14,\n",
       " '高中_生物_稳态与环境': 15,\n",
       " '高中_生物_生物技术实践': 16,\n",
       " '高中_生物_生物科学与社会': 17,\n",
       " '高中_生物_现代生物技术专题': 18}"
      ]
     },
     "execution_count": 33,
     "metadata": {},
     "output_type": "execute_result"
    }
   ],
   "source": [
    "label2id = eval(open('./data/kkb/label_id_19.json', 'r').readlines()[0])\n",
    "id2label = {v:k for k,v in label2id.items()}\n",
    "label2id"
   ]
  },
  {
   "cell_type": "code",
   "execution_count": 85,
   "metadata": {},
   "outputs": [],
   "source": [
    "# Baidu 19 class\n",
    "x = open('./data/kkb/x_19.txt').readlines()\n",
    "y = eval(open('./data/kkb/y_19.txt').readlines()[0])\n",
    "\n",
    "prefix = '__label__'\n",
    "data = ''\n",
    "\n",
    "for i in range(len(y)):\n",
    "    labels = id2label[y[i][1]].split('_')\n",
    "    labels = [prefix+label for label in labels]\n",
    "    data += ' '.join(labels[1:]) + ' ' + x[i]\n",
    "\n",
    "\n",
    "data = data.split('\\n')\n",
    "np.random.shuffle(data)\n",
    "with open('./data/kkb/baidu_19.txt', 'w', encoding='utf8') as f:\n",
    "    f.write('\\n'.join(data))"
   ]
  },
  {
   "cell_type": "markdown",
   "metadata": {},
   "source": [
    "切分数据集"
   ]
  },
  {
   "cell_type": "code",
   "execution_count": 86,
   "metadata": {},
   "outputs": [],
   "source": [
    "!head -n 19151 ./data/kkb/baidu_19.txt > ./data/kkb/baidu_19.train\n",
    "!tail -n 3000 ./data/kkb/baidu_19.txt > ./data/kkb/baidu_19.valid"
   ]
  },
  {
   "cell_type": "markdown",
   "metadata": {},
   "source": [
    "# 训练并验证"
   ]
  },
  {
   "cell_type": "code",
   "execution_count": 87,
   "metadata": {},
   "outputs": [],
   "source": [
    "model = fasttext.train_supervised(input='./data/kkb/baidu_19.train', epoch=25, wordNgrams=2, bucket=200000, dim=50, loss='ova')"
   ]
  },
  {
   "cell_type": "code",
   "execution_count": 89,
   "metadata": {},
   "outputs": [
    {
     "data": {
      "text/plain": [
       "((), array([], dtype=float64))"
      ]
     },
     "execution_count": 89,
     "metadata": {},
     "output_type": "execute_result"
    }
   ],
   "source": [
    "model.predict(\"下列生态系统中，抵抗力稳定性最强的是（）A.河流生态系统B.农田生态系统C.草原生态系统D.热带雨林生态系统\", k=-1, threshold=0.2)"
   ]
  },
  {
   "cell_type": "code",
   "execution_count": 90,
   "metadata": {},
   "outputs": [
    {
     "data": {
      "text/plain": [
       "(2999, 0.10526315789473684, 1.0)"
      ]
     },
     "execution_count": 90,
     "metadata": {},
     "output_type": "execute_result"
    }
   ],
   "source": [
    "model.test('./data/kkb/baidu_19.valid', k=-1)"
   ]
  }
 ],
 "metadata": {
  "kernelspec": {
   "display_name": "ml",
   "language": "python",
   "name": "ml"
  },
  "language_info": {
   "codemirror_mode": {
    "name": "ipython",
    "version": 3
   },
   "file_extension": ".py",
   "mimetype": "text/x-python",
   "name": "python",
   "nbconvert_exporter": "python",
   "pygments_lexer": "ipython3",
   "version": "3.6.9"
  }
 },
 "nbformat": 4,
 "nbformat_minor": 4
}
