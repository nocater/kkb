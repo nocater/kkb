{
 "cells": [
  {
   "cell_type": "code",
   "execution_count": 1,
   "metadata": {},
   "outputs": [
    {
     "name": "stderr",
     "output_type": "stream",
     "text": [
      "Using TensorFlow backend.\n"
     ]
    },
    {
     "data": {
      "text/plain": [
       "'2.3.1'"
      ]
     },
     "execution_count": 1,
     "metadata": {},
     "output_type": "execute_result"
    }
   ],
   "source": [
    "#! -*- coding:utf-8 -*-\n",
    "\n",
    "import json\n",
    "import numpy as np\n",
    "import pandas as pd\n",
    "from random import choice\n",
    "from keras_bert import load_trained_model_from_checkpoint, Tokenizer\n",
    "import re, os\n",
    "import codecs\n",
    "\n",
    "\n",
    "from keras.layers import *\n",
    "from keras.models import Model\n",
    "import keras.backend as K\n",
    "from keras.optimizers import Adam\n",
    "\n",
    "import keras\n",
    "keras.__version__"
   ]
  },
  {
   "cell_type": "markdown",
   "metadata": {},
   "source": [
    "# bert parameters"
   ]
  },
  {
   "cell_type": "code",
   "execution_count": 2,
   "metadata": {},
   "outputs": [],
   "source": [
    "maxlen = 100\n",
    "config_path = 'model/chinese_L-12_H-768_A-12/bert_config.json'\n",
    "checkpoint_path = 'model/chinese_L-12_H-768_A-12/bert_model.ckpt'\n",
    "dict_path = 'model/chinese_L-12_H-768_A-12/vocab.txt'\n",
    "\n",
    "\n",
    "token_dict = {}\n",
    "\n",
    "with codecs.open(dict_path, 'r', 'utf8') as reader:\n",
    "    for line in reader:\n",
    "        token = line.strip()\n",
    "        token_dict[token] = len(token_dict)\n",
    "\n",
    "\n",
    "class OurTokenizer(Tokenizer):\n",
    "    def _tokenize(self, text):\n",
    "        R = []\n",
    "        for c in text:\n",
    "            if c in self._token_dict:\n",
    "                R.append(c)\n",
    "            elif self._is_space(c):\n",
    "                R.append('[unused1]') # space类用未经训练的[unused1]表示\n",
    "            else:\n",
    "                R.append('[UNK]') # 剩余的字符是[UNK]\n",
    "        return R\n",
    "\n",
    "tokenizer = OurTokenizer(token_dict)"
   ]
  },
  {
   "cell_type": "markdown",
   "metadata": {},
   "source": [
    "# Arrange word matrix"
   ]
  },
  {
   "cell_type": "code",
   "execution_count": 3,
   "metadata": {},
   "outputs": [],
   "source": [
    "import jieba\n",
    "import numpy as np\n",
    "\n",
    "def count_words(s):\n",
    "    stop_words = ['$', '?', '_', '“', '”', '、', '。', '《', '》','，','（', '）', '\\n', '的', '了', '是']\n",
    "    tokenstr = []\n",
    "    result = {}\n",
    "    \n",
    "    word2pos = {}\n",
    "    pos2word = {}\n",
    "    \n",
    "    words = jieba.cut(s)\n",
    "    \n",
    "    i = 0 \n",
    "    for word in words:\n",
    "        if word in stop_words: continue\n",
    "        tokenstr.append(word)\n",
    "        result[word] = result.get(word, 0) + 1\n",
    "        pos2word[i] = word\n",
    "        \n",
    "        indexs = word2pos.get(word, [])\n",
    "        indexs.append(i)\n",
    "        word2pos[word] = indexs\n",
    "        \n",
    "        i+=1\n",
    "    \n",
    "    result = dict(sorted(result.items(), key=lambda x: (x[1],x[0]), reverse=True))\n",
    "    wordslist = list(result.keys())\n",
    "    assert len(set(tokenstr)) == len(wordslist)\n",
    "    return (wordslist, tokenstr, word2pos, pos2word)\n",
    "\n",
    "\n",
    "def fill_table(TD_list, related_tables,target_width, qqueue):\n",
    "    TD_list[0] = qqueue[0] # TD_list 长度为target_width 第一个位置对应此单词在wlist中的索引。0,1,2...\n",
    "    count = 1\n",
    "\n",
    "    while qqueue != [] and count < target_width:\n",
    "        use_index = qqueue[0] # 单词索引\n",
    "        del qqueue[0]\n",
    "        use_list = related_tables[use_index]  #取出use_index单词对应的相关单词。\n",
    "        len1 = len(use_list)   # 查看 i对应 的相关单词的个数。\n",
    "        len2 = target_width - count \n",
    "        if len1 >= len2:   # 大体意思应该是查看单词i对应的相关单词个数如果满足 target_width就直接从相关单词按顺序取出来填充到TD_list中。\n",
    "            TD_list[count:] = use_list[:len2]  \n",
    "            assert len(TD_list) == target_width\n",
    "            count = target_width\n",
    "            break\n",
    "        else:              # 如果不满足就有多少填多少。剩下的用 -1填充。\n",
    "            TD_list[count:count + len1] = use_list\n",
    "            assert len(TD_list) == target_width\n",
    "            count += len1\n",
    "            for next_id in use_list:\n",
    "                qqueue.append(next_id)\n",
    "    for i in range(count, target_width):\n",
    "        TD_list[i] = -1\n",
    "        \n",
    "        \n",
    "def reorder(table, word2pos, pos2word, wlist, word2id):\n",
    "    sort_table = []\n",
    "    topn, neighbor = np.array(table).shape\n",
    "    for i in range(topn):\n",
    "        tmp = []\n",
    "        tmp += word2pos[wlist[table[i][0]]] # record each center word index\n",
    "        length = len(tmp)                   # occurred times of center words\n",
    "        t = []                              # t is use to related words index\n",
    "        for j in range(1, neighbor):\n",
    "            t += word2pos[wlist[table[i][j]]]\n",
    "        index = np.random.randint(len(t), size = 20-length)\n",
    "        t = np.array(t)\n",
    "        t = list(t[index])\n",
    "        tmp = tmp + t                       # conccat the index of center word and index of its related words\n",
    "        tmp.sort()\n",
    "        for j in range(len(tmp)):\n",
    "            tmp[j] = word2id[pos2word[tmp[j]]] # convert index to word_id\n",
    "            # tmp[j] = pos2word[tmp[j]]       # convert index to word\n",
    "        sort_table.append(tmp)\n",
    "    \n",
    "    return np.array(sort_table)\n",
    "\n",
    "\n",
    "def text2matrix(s, sliding_window=3, target_width=5):\n",
    "    \"\"\"\n",
    "    \n",
    "    \"\"\"\n",
    "    (wlist, tokenwords, word2pos, pos2word) = count_words(s)\n",
    "    word2id = {k:v for k,v in zip(wlist, range(len(wlist)))}\n",
    "    wordslist_length = len(wlist)\n",
    "    \n",
    "    AM_table = [[0 for i in range(wordslist_length)] for j in range(wordslist_length)]\n",
    "    \n",
    "    # generate occurred matrix with sliding_window\n",
    "    for num in range(len(tokenwords)-sliding_window+1):\n",
    "        for i in range(sliding_window-1):\n",
    "            for j in range(i+1, sliding_window):\n",
    "                AM_table[wlist.index(tokenwords[num + i])][wlist.index(tokenwords[num + j])] += 1\n",
    "                AM_table[wlist.index(tokenwords[num + j])][wlist.index(tokenwords[num + i])] += 1\n",
    "                \n",
    "    related_tables = {}\n",
    "    for i in range(wordslist_length):\n",
    "        related_tables[i] = [[index, num] for index, num in enumerate(AM_table[i]) if num > 0 and index != i]\n",
    "        related_tables[i].sort(key=lambda x: x[1], reverse=True)\n",
    "        related_tables[i] = [element[0] for element in related_tables[i]]\n",
    "    \n",
    "    TD_table = [[-1 for i in range(target_width)] for j in range(wordslist_length)]\n",
    "    for i in range(wordslist_length):\n",
    "        fill_table(TD_table[i], related_tables, target_width, [i]) # fill TD table with -1\n",
    "    \n",
    "    # TD_table = reorder(TD_table, word2pos, pos2word, wlist, word2id)\n",
    "    \n",
    "    # convert id to words: arrange word matrix\n",
    "    awm = []\n",
    "    for row in TD_table:\n",
    "        awm.append([pos2word[i] for i in row])\n",
    "    return wlist, awm # ,TD_table"
   ]
  },
  {
   "cell_type": "markdown",
   "metadata": {},
   "source": [
    "# Load data for binary classify"
   ]
  },
  {
   "cell_type": "markdown",
   "metadata": {},
   "source": [
    "neg = pd.read_excel('./data/bert_keras/neg.xls', header=None)\n",
    "pos = pd.read_excel('./data/bert_keras/pos.xls', header=None)\n",
    "\n",
    "data = []\n",
    "\n",
    "for d in neg[0]:\n",
    "    data.append((d, 0))\n",
    "\n",
    "for d in pos[0]:\n",
    "    data.append((d, 1))\n",
    "\n",
    "\n",
    "# 按照9:1的比例划分训练集和验证集\n",
    "random_order = list(range(len(data)))\n",
    "np.random.shuffle(random_order)\n",
    "train_data = [data[j] for i, j in enumerate(random_order) if i % 10 != 0]\n",
    "valid_data = [data[j] for i, j in enumerate(random_order) if i % 10 == 0]"
   ]
  },
  {
   "cell_type": "markdown",
   "metadata": {},
   "source": [
    "# Load Data with multi labels(Baidu)"
   ]
  },
  {
   "cell_type": "code",
   "execution_count": 4,
   "metadata": {},
   "outputs": [
    {
     "name": "stdout",
     "output_type": "stream",
     "text": [
      "19 class task, data size:22151,22151\n",
      "after deal data imbalance, data size: 13500 13500\n"
     ]
    },
    {
     "name": "stderr",
     "output_type": "stream",
     "text": [
      "Building prefix dict from the default dictionary ...\n",
      "WARNING: Logging before flag parsing goes to stderr.\n",
      "I1023 10:28:17.963426 139844851050304 __init__.py:111] Building prefix dict from the default dictionary ...\n",
      "Loading model from cache /tmp/jieba.cache\n",
      "I1023 10:28:17.965262 139844851050304 __init__.py:131] Loading model from cache /tmp/jieba.cache\n",
      "Loading model cost 0.512 seconds.\n",
      "I1023 10:28:18.477261 139844851050304 __init__.py:163] Loading model cost 0.512 seconds.\n",
      "Prefix dict has been built succesfully.\n",
      "I1023 10:28:18.478954 139844851050304 __init__.py:164] Prefix dict has been built succesfully.\n"
     ]
    }
   ],
   "source": [
    "# 类别\n",
    "n_class = 19\n",
    "# 是否处理数据不平衡\n",
    "imbalance = True\n",
    "fixed_nums = 900\n",
    "# 是否使用Arrange word matrix\n",
    "AWM = True\n",
    "\n",
    "\n",
    "x,y = None, None\n",
    "if n_class == 13:\n",
    "    x = open('./data/kkb/x.txt','r',encoding='utf8').readlines()\n",
    "    y = eval(open('./data/kkb/y.txt', 'r',encoding='utf8').readlines()[0])\n",
    "elif n_class == 19:\n",
    "    x = open('./data/kkb/x_19.txt','r',encoding='utf8').readlines()\n",
    "    y = eval(open('./data/kkb/y_19.txt','r',encoding='utf8').readlines()[0])\n",
    "\n",
    "print('{} class task, data size:{},{}'.format(n_class,len(x),len(y)))\n",
    "\n",
    "\n",
    "# 类别不平衡\n",
    "if imbalance:\n",
    "    ys = [str(i) for i in y]\n",
    "    from collections import Counter\n",
    "    counts = Counter(ys)\n",
    "    for k,v in counts.items():\n",
    "        #print(k,':',v)\n",
    "        pass\n",
    "\n",
    "    df = pd.DataFrame({'x':x,'y':ys})\n",
    "    new_x,new_y = [],[]\n",
    "    for k, v in counts.items():\n",
    "        x_ = np.random.choice(df[df.y == k].x, fixed_nums)\n",
    "        y_ = [eval(k)]*900\n",
    "        new_x.extend(x_)\n",
    "        new_y.extend(y_)\n",
    "    print('after deal data imbalance, data size:',len(new_x),len(new_y))\n",
    "    x,y = new_x, new_y\n",
    "\n",
    "from sklearn.preprocessing import MultiLabelBinarizer\n",
    "mlb = MultiLabelBinarizer(range(n_class))\n",
    "y = mlb.fit_transform(y)\n",
    "y = [list(i) for i in y]\n",
    "\n",
    "# arrage word matrix\n",
    "x_awm = []\n",
    "if AWM:\n",
    "    for row in x:\n",
    "        _, awm = text2matrix(row)\n",
    "        x_awm.append(''.join(list(np.reshape(awm[:20],(-1)))))\n",
    "    x = x_awm\n",
    "\n",
    "\n",
    "data = list(zip(x,y))\n",
    "np.random.shuffle(data)\n",
    "train_data = data[:-4000]\n",
    "val_data = data[-4000:-2000]\n",
    "test_data = data[-2000:]"
   ]
  },
  {
   "cell_type": "markdown",
   "metadata": {},
   "source": [
    "data_19 = data\n",
    "data_19[0]"
   ]
  },
  {
   "cell_type": "markdown",
   "metadata": {},
   "source": [
    "data[0][0]"
   ]
  },
  {
   "cell_type": "markdown",
   "metadata": {},
   "source": [
    "# Data generator"
   ]
  },
  {
   "cell_type": "code",
   "execution_count": 5,
   "metadata": {},
   "outputs": [],
   "source": [
    "def seq_padding(X, padding=0):\n",
    "    L = [len(x) for x in X]\n",
    "    ML = max(L)\n",
    "    return np.array([\n",
    "        np.concatenate([x, [padding] * (ML - len(x))]) if len(x) < ML else x for x in X\n",
    "    ])\n",
    "\n",
    "\n",
    "class data_generator:\n",
    "    def __init__(self, data, batch_size=32, multi_labels=False):\n",
    "        self.data = data\n",
    "        self.batch_size = batch_size\n",
    "        self.multi_labels = multi_labels\n",
    "        self.steps = len(self.data) // self.batch_size\n",
    "        if len(self.data) % self.batch_size != 0:\n",
    "            self.steps += 1\n",
    "    def __len__(self):\n",
    "        return self.steps\n",
    "    def __iter__(self):\n",
    "        while True:\n",
    "            idxs = list(range(len(self.data)))\n",
    "            np.random.shuffle(idxs)\n",
    "            X1, X2, Y = [], [], []\n",
    "            for i in idxs:\n",
    "                d = self.data[i]\n",
    "                text = d[0][:maxlen]\n",
    "                x1, x2 = tokenizer.encode(first=text)\n",
    "                y = d[1]\n",
    "                X1.append(x1)\n",
    "                X2.append(x2)\n",
    "                Y.append([y])\n",
    "                if len(X1) == self.batch_size or i == idxs[-1]:\n",
    "                    X1 = seq_padding(X1)\n",
    "                    X2 = seq_padding(X2)\n",
    "                    Y = seq_padding(Y)\n",
    "                    if self.multi_labels: Y = Y.reshape(-1, np.shape(Y)[-1])\n",
    "                    yield [X1, X2], Y\n",
    "                    [X1, X2, Y] = [], [], []"
   ]
  },
  {
   "cell_type": "markdown",
   "metadata": {},
   "source": [
    "# Model for binarry classify"
   ]
  },
  {
   "cell_type": "markdown",
   "metadata": {},
   "source": [
    "bert_model = load_trained_model_from_checkpoint(config_path, checkpoint_path, seq_len=None)\n",
    "\n",
    "for l in bert_model.layers:\n",
    "    l.trainable = True\n",
    "\n",
    "x1_in = Input(shape=(None,))\n",
    "x2_in = Input(shape=(None,))\n",
    "\n",
    "x = bert_model([x1_in, x2_in])\n",
    "x = Lambda(lambda x: x[:, 0])(x)\n",
    "p = Dense(1, activation='sigmoid')(x)\n",
    "\n",
    "model = Model([x1_in, x2_in], p)\n",
    "model.compile(\n",
    "    loss='binary_crossentropy',\n",
    "    optimizer=Adam(1e-5), # 用足够小的学习率\n",
    "    metrics=['accuracy']\n",
    ")\n",
    "model.summary()\n",
    "\n",
    "\n",
    "train_D = data_generator(train_data)\n",
    "valid_D = data_generator(valid_data)\n",
    "\n",
    "model.fit_generator(\n",
    "    train_D.__iter__(),\n",
    "    steps_per_epoch=len(train_D),\n",
    "    epochs=1,\n",
    "    validation_data=valid_D.__iter__(),\n",
    "    validation_steps=len(valid_D)\n",
    ")"
   ]
  },
  {
   "cell_type": "markdown",
   "metadata": {},
   "source": [
    "# Model for Multi_labels"
   ]
  },
  {
   "cell_type": "markdown",
   "metadata": {},
   "source": [
    "## 1.Metrics"
   ]
  },
  {
   "cell_type": "code",
   "execution_count": 6,
   "metadata": {},
   "outputs": [],
   "source": [
    "def micro_f1(y_true, y_pred):\n",
    "    \"\"\"F1 metric.\n",
    "    \n",
    "    Computes the micro_f1 and macro_f1, metrics for multi-label classification of\n",
    "    how many relevant items are selected.\n",
    "    \"\"\"\n",
    "    true_positives = K.sum(K.round(K.clip(y_true * y_pred, 0, 1)), axis=0)\n",
    "    predicted_positives = K.sum(K.round(K.clip(y_pred, 0, 1)), axis=0)\n",
    "    possible_positives = K.sum(K.round(K.clip(y_true, 0, 1)), axis=0)\n",
    "    \n",
    "    \"\"\"Macro_F1 metric.\n",
    "    \"\"\"\n",
    "    precision = true_positives/(predicted_positives+K.epsilon())\n",
    "    recall = true_positives/(possible_positives+K.epsilon())\n",
    "    macro_f1 = K.mean(2*precision*recall/(precision+recall+K.epsilon()))\n",
    "        \n",
    "    \"\"\"Micro_F1 metric.\n",
    "    \"\"\"\n",
    "    precision = K.sum(true_positives)/K.sum(predicted_positives)\n",
    "    recall = K.sum(true_positives)/K.sum(possible_positives)\n",
    "    micro_f1 = 2*precision*recall/(precision+recall+K.epsilon())\n",
    "    return micro_f1\n",
    "\n",
    "def macro_f1(y_true, y_pred):\n",
    "    \"\"\"F1 metric.\n",
    "    \n",
    "    Computes the micro_f1 and macro_f1, metrics for multi-label classification of\n",
    "    how many relevant items are selected.\n",
    "    \"\"\"\n",
    "    true_positives = K.sum(K.round(K.clip(y_true * y_pred, 0, 1)), axis=0)\n",
    "    predicted_positives = K.sum(K.round(K.clip(y_pred, 0, 1)), axis=0)\n",
    "    possible_positives = K.sum(K.round(K.clip(y_true, 0, 1)), axis=0)\n",
    "    \n",
    "    \"\"\"Macro_F1 metric.\n",
    "    \"\"\"\n",
    "    precision = true_positives/(predicted_positives+K.epsilon())\n",
    "    recall = true_positives/(possible_positives+K.epsilon())\n",
    "    macro_f1 = K.mean(2*precision*recall/(precision+recall+K.epsilon()))\n",
    "        \n",
    "    \"\"\"Micro_F1 metric.\n",
    "    \"\"\"\n",
    "    precision = K.sum(true_positives)/K.sum(predicted_positives)\n",
    "    recall = K.sum(true_positives)/K.sum(possible_positives)\n",
    "    micro_f1 = 2*precision*recall/(precision+recall+K.epsilon())\n",
    "    return macro_f1"
   ]
  },
  {
   "cell_type": "code",
   "execution_count": 7,
   "metadata": {},
   "outputs": [
    {
     "data": {
      "text/plain": [
       "(0.7142857092857143, 0.7333333277777777)"
      ]
     },
     "execution_count": 7,
     "metadata": {},
     "output_type": "execute_result"
    }
   ],
   "source": [
    "def f1_np(y_true, y_pred):\n",
    "    \"\"\"F1 metric.\n",
    "    \n",
    "    Computes the micro_f1 and macro_f1, metrics for multi-label classification of\n",
    "    how many relevant items are selected.\n",
    "    \"\"\"\n",
    "    true_positives = np.sum(np.round(np.clip(y_true * y_pred, 0, 1)), axis=0)\n",
    "    predicted_positives = np.sum(np.round(np.clip(y_pred, 0, 1)), axis=0)\n",
    "    possible_positives = np.sum(np.round(np.clip(y_true, 0, 1)), axis=0)\n",
    "    \n",
    "    \"\"\"Macro_F1 metric.\n",
    "    \"\"\"\n",
    "    precision = true_positives/(predicted_positives+1e-8)\n",
    "    recall = true_positives/(possible_positives+1e-8)\n",
    "    macro_f1 = np.mean(2*precision*recall/(precision+recall))\n",
    "        \n",
    "    \"\"\"Micro_F1 metric.\n",
    "    \"\"\"\n",
    "    precision = np.sum(true_positives)/np.sum(predicted_positives)\n",
    "    recall = np.sum(true_positives)/np.sum(possible_positives)\n",
    "    micro_f1 = 2*precision*recall/(precision+recall+1e-8)\n",
    "    return micro_f1, macro_f1\n",
    "    \n",
    "\n",
    "y_true = np.array([[1,0,1,1,0],[1,1,0,1,1]])\n",
    "y_pred = np.array([[0,1,1,1,0],[1,1,1,0,1]])\n",
    "\n",
    "f1_np(y_true, y_pred)"
   ]
  },
  {
   "cell_type": "markdown",
   "metadata": {},
   "source": [
    "## 2.Model"
   ]
  },
  {
   "cell_type": "code",
   "execution_count": 8,
   "metadata": {},
   "outputs": [
    {
     "name": "stderr",
     "output_type": "stream",
     "text": [
      "W1023 10:29:03.600848 139844851050304 deprecation.py:323] From /usr/local/lib/python3.6/dist-packages/tensorflow/python/ops/nn_impl.py:180: add_dispatch_support.<locals>.wrapper (from tensorflow.python.ops.array_ops) is deprecated and will be removed in a future version.\n",
      "Instructions for updating:\n",
      "Use tf.where in 2.0, which has the same broadcast rule as np.where\n"
     ]
    },
    {
     "name": "stdout",
     "output_type": "stream",
     "text": [
      "Model: \"model_3\"\n",
      "__________________________________________________________________________________________________\n",
      "Layer (type)                    Output Shape         Param #     Connected to                     \n",
      "==================================================================================================\n",
      "input_1 (InputLayer)            (None, None)         0                                            \n",
      "__________________________________________________________________________________________________\n",
      "input_2 (InputLayer)            (None, None)         0                                            \n",
      "__________________________________________________________________________________________________\n",
      "model_2 (Model)                 (None, None, 768)    101677056   input_1[0][0]                    \n",
      "                                                                 input_2[0][0]                    \n",
      "__________________________________________________________________________________________________\n",
      "lambda_1 (Lambda)               (None, 768)          0           model_2[1][0]                    \n",
      "__________________________________________________________________________________________________\n",
      "dense_1 (Dense)                 (None, 19)           14611       lambda_1[0][0]                   \n",
      "==================================================================================================\n",
      "Total params: 101,691,667\n",
      "Trainable params: 101,691,667\n",
      "Non-trainable params: 0\n",
      "__________________________________________________________________________________________________\n"
     ]
    }
   ],
   "source": [
    "bert_model = load_trained_model_from_checkpoint(config_path, checkpoint_path, seq_len=None)\n",
    "\n",
    "for l in bert_model.layers:\n",
    "    l.trainable = True\n",
    "\n",
    "x1_in = Input(shape=(None,))\n",
    "x2_in = Input(shape=(None,))\n",
    "\n",
    "x = bert_model([x1_in, x2_in])\n",
    "x = Lambda(lambda x: x[:, 0])(x)\n",
    "p = Dense(n_class, activation='sigmoid')(x)\n",
    "\n",
    "model = Model([x1_in, x2_in], p)\n",
    "# val_metric = Metrics([val_x,val_y])\n",
    "model.compile(\n",
    "    loss='binary_crossentropy',\n",
    "    optimizer=Adam(1e-5), # 用足够小的学习率\n",
    "    metrics=[micro_f1,macro_f1]\n",
    ")\n",
    "model.summary()"
   ]
  },
  {
   "cell_type": "markdown",
   "metadata": {},
   "source": [
    "## 3.Train"
   ]
  },
  {
   "cell_type": "code",
   "execution_count": 9,
   "metadata": {},
   "outputs": [
    {
     "name": "stderr",
     "output_type": "stream",
     "text": [
      "W1023 10:29:17.918670 139844851050304 deprecation_wrapper.py:119] From /usr/local/lib/python3.6/dist-packages/keras/backend/tensorflow_backend.py:422: The name tf.global_variables is deprecated. Please use tf.compat.v1.global_variables instead.\n",
      "\n"
     ]
    },
    {
     "name": "stdout",
     "output_type": "stream",
     "text": [
      "Epoch 1/5\n",
      "297/297 [==============================] - 107s 361ms/step - loss: 0.1417 - micro_f1: 0.6975 - macro_f1: 0.4538 - val_loss: 0.0852 - val_micro_f1: 0.8501 - val_macro_f1: 0.6753\n",
      "Epoch 2/5\n",
      "297/297 [==============================] - 97s 325ms/step - loss: 0.0672 - micro_f1: 0.8652 - macro_f1: 0.6893 - val_loss: 0.0495 - val_micro_f1: 0.8814 - val_macro_f1: 0.7119\n",
      "Epoch 3/5\n",
      "297/297 [==============================] - 97s 326ms/step - loss: 0.0498 - micro_f1: 0.9019 - macro_f1: 0.7507 - val_loss: 0.0321 - val_micro_f1: 0.8899 - val_macro_f1: 0.7205\n",
      "Epoch 4/5\n",
      "297/297 [==============================] - 97s 326ms/step - loss: 0.0395 - micro_f1: 0.9218 - macro_f1: 0.7832 - val_loss: 0.0543 - val_micro_f1: 0.8988 - val_macro_f1: 0.7466\n",
      "Epoch 5/5\n",
      "297/297 [==============================] - 97s 327ms/step - loss: 0.0321 - micro_f1: 0.9367 - macro_f1: 0.8082 - val_loss: 0.0638 - val_micro_f1: 0.9025 - val_macro_f1: 0.7568\n"
     ]
    },
    {
     "data": {
      "text/plain": [
       "<keras.callbacks.callbacks.History at 0x7f2d582b6c50>"
      ]
     },
     "execution_count": 9,
     "metadata": {},
     "output_type": "execute_result"
    }
   ],
   "source": [
    "train_D = data_generator(train_data,multi_labels=True)\n",
    "valid_D = data_generator(val_data,multi_labels=True)\n",
    "test_D = data_generator(test_data,multi_labels=True)\n",
    "\n",
    "model.fit_generator(\n",
    "    train_D.__iter__(),\n",
    "    steps_per_epoch=len(train_D),\n",
    "    epochs=5,\n",
    "    validation_data=valid_D.__iter__(),\n",
    "    validation_steps=len(valid_D),\n",
    "    # callbacks=[val_metric],\n",
    ")\n",
    "# tff.summary()\n",
    "# val_metric.val_macro_f1s, val_metric.val_micro_f1s"
   ]
  },
  {
   "cell_type": "markdown",
   "metadata": {},
   "source": [
    "## 4.Evalulation of Test"
   ]
  },
  {
   "cell_type": "code",
   "execution_count": 10,
   "metadata": {},
   "outputs": [
    {
     "data": {
      "text/plain": [
       "[0.07132768630981445, 0.9013189673423767, 0.7753145694732666]"
      ]
     },
     "execution_count": 10,
     "metadata": {},
     "output_type": "execute_result"
    }
   ],
   "source": [
    "test_D = data_generator(test_data,multi_labels=True)\n",
    "\n",
    "model.evaluate_generator(test_D.__iter__(), len(test_D))"
   ]
  }
 ],
 "metadata": {
  "kernelspec": {
   "display_name": "Python 3",
   "language": "python",
   "name": "python3"
  },
  "language_info": {
   "codemirror_mode": {
    "name": "ipython",
    "version": 3
   },
   "file_extension": ".py",
   "mimetype": "text/x-python",
   "name": "python",
   "nbconvert_exporter": "python",
   "pygments_lexer": "ipython3",
   "version": "3.6.5"
  }
 },
 "nbformat": 4,
 "nbformat_minor": 4
}
