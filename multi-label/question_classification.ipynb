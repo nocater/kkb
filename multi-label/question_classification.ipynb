{
 "cells": [
  {
   "cell_type": "markdown",
   "metadata": {},
   "source": [
    "# 数据处理"
   ]
  },
  {
   "cell_type": "markdown",
   "metadata": {},
   "source": [
    "## 高中政治"
   ]
  },
  {
   "cell_type": "code",
   "execution_count": 4,
   "metadata": {},
   "outputs": [
    {
     "name": "stdout",
     "output_type": "stream",
     "text": [
      "size: 67\n"
     ]
    },
    {
     "data": {
      "text/plain": [
       "'时事政治Done!'"
      ]
     },
     "execution_count": 4,
     "metadata": {},
     "output_type": "execute_result"
    }
   ],
   "source": [
    "import pandas as pd\n",
    "\n",
    "labels = ['经济学常识', '科学思维常识', '生活中的法律常识','科学社会主义常识','公民道德与伦理常识','时事政治']\n",
    "category = '时事政治'\n",
    "\n",
    "file = r'/mnt/d/Dataset/百度题库/高中_政治/origin/'+category+'.csv'\n",
    "df = pd.read_csv(file)\n",
    "print('size:', len(df))\n",
    "\n",
    "# 按网页顺序对其排序\n",
    "df['web-scraper-order'] = df['web-scraper-order'].apply(lambda x: int(x.split('-')[1]))\n",
    "df = df[['web-scraper-order','item']]\n",
    "df = df.sort_values(by='web-scraper-order')\n",
    "\n",
    "# 对文本处理\n",
    "def foo(x):\n",
    "    x = x.strip()\n",
    "    x = x.replace('\\n','')\n",
    "    x = x.replace('\\t','')\n",
    "    x = x.replace('\\r','')\n",
    "    x = x.replace(' ','')\n",
    "    x = x.replace(' ','')\n",
    "    x = x[:x.index('题型')]\n",
    "    return x\n",
    "\n",
    "# 删除文本中的换行\n",
    "df['item'] = df.item.apply(lambda x: foo(x))\n",
    "df = df['item']\n",
    "\n",
    "# save\n",
    "with open(r'/mnt/d/Dataset/百度题库/高中_政治/'+category+'.csv','w',encoding='utf8') as f:\n",
    "    f.write('\\n'.join(list(df.values)))\n",
    "category+'Done!'"
   ]
  },
  {
   "cell_type": "markdown",
   "metadata": {},
   "source": [
    "# 高中历史"
   ]
  },
  {
   "cell_type": "code",
   "execution_count": 17,
   "metadata": {},
   "outputs": [
    {
     "name": "stdout",
     "output_type": "stream",
     "text": [
      "size: 2330\n"
     ]
    },
    {
     "data": {
      "text/plain": [
       "'现代史Done!2139'"
      ]
     },
     "execution_count": 17,
     "metadata": {},
     "output_type": "execute_result"
    }
   ],
   "source": [
    "import pandas as pd\n",
    "\n",
    "labels = ['古代史', '近代史', '现代史']\n",
    "category = labels[2]\n",
    "\n",
    "file = r'/mnt/d/Dataset/百度题库/高中_历史/origin/'+category+'.csv'\n",
    "df = pd.read_csv(file)\n",
    "print('size:', len(df))\n",
    "\n",
    "# 按网页顺序对其排序\n",
    "df['web-scraper-order'] = df['web-scraper-order'].apply(lambda x: int(x.split('-')[1]))\n",
    "df = df[['web-scraper-order','item']]\n",
    "df = df.sort_values(by='web-scraper-order')\n",
    "\n",
    "# 对文本处理\n",
    "def foo(x):\n",
    "    x = x.strip()\n",
    "    x = x.replace('\\n','')\n",
    "    x = x.replace('\\t','')\n",
    "    x = x.replace('\\r','')\n",
    "    x = x.replace(' ','')\n",
    "    x = x.replace(' ','')\n",
    "    x = x[:x.index('题型')]\n",
    "    return x\n",
    "\n",
    "# 删除文本中的换行\n",
    "df['item'] = df.item.apply(lambda x: foo(x))\n",
    "# 删除带图数据\n",
    "df = df[df.item.str.contains('图')==False]\n",
    "df = df['item']\n",
    "\n",
    "# save\n",
    "with open(r'/mnt/d/Dataset/百度题库/高中_历史/'+category+'.csv','w',encoding='utf8') as f:\n",
    "    f.write('\\n'.join(list(df.values)))\n",
    "category+'Done!'+str(len(df))"
   ]
  },
  {
   "cell_type": "markdown",
   "metadata": {},
   "source": [
    "# 高中-地理"
   ]
  },
  {
   "cell_type": "code",
   "execution_count": 11,
   "metadata": {},
   "outputs": [
    {
     "name": "stdout",
     "output_type": "stream",
     "text": [
      "size: 431\n"
     ]
    },
    {
     "data": {
      "text/plain": [
       "'地球与地图Done!78'"
      ]
     },
     "execution_count": 11,
     "metadata": {},
     "output_type": "execute_result"
    }
   ],
   "source": [
    "import pandas as pd\n",
    "\n",
    "labels = ['地球与地图','宇宙中的地球','生产活动与地域联系','人口与城市','区域可持续发展']\n",
    "category = labels[0]\n",
    "\n",
    "file = r'/mnt/d/Dataset/百度题库/高中_地理/origin/'+category+'.csv'\n",
    "df = pd.read_csv(file)\n",
    "print('size:', len(df))\n",
    "\n",
    "# 按网页顺序对其排序\n",
    "df['web-scraper-order'] = df['web-scraper-order'].apply(lambda x: int(x.split('-')[1]))\n",
    "df = df[['web-scraper-order','item']]\n",
    "df = df.sort_values(by='web-scraper-order')\n",
    "\n",
    "# 对文本处理\n",
    "def foo(x):\n",
    "    x = x.strip()\n",
    "    x = x.replace('\\n','')\n",
    "    x = x.replace('\\t','')\n",
    "    x = x.replace('\\r','')\n",
    "    x = x.replace(' ','')\n",
    "    x = x.replace(' ','')\n",
    "    x = x[:x.index('题型')]\n",
    "    return x\n",
    "\n",
    "# 删除文本中的换行\n",
    "df['item'] = df.item.apply(lambda x: foo(x))\n",
    "# 删除带图数据\n",
    "df = df[df.item.str.contains('图')==False]\n",
    "df = df['item']\n",
    "\n",
    "# save\n",
    "with open(r'/mnt/d/Dataset/百度题库/高中_地理/'+category+'.csv','w',encoding='utf8') as f:\n",
    "    f.write('\\n'.join(list(df.values)))\n",
    "category+'Done!'+str(len(df))"
   ]
  },
  {
   "cell_type": "markdown",
   "metadata": {},
   "source": [
    "# 高中-生物"
   ]
  },
  {
   "cell_type": "code",
   "execution_count": 17,
   "metadata": {},
   "outputs": [
    {
     "name": "stdout",
     "output_type": "stream",
     "text": [
      "size: 1000\n"
     ]
    },
    {
     "data": {
      "text/plain": [
       "'现代生物技术专题Done!688'"
      ]
     },
     "execution_count": 17,
     "metadata": {},
     "output_type": "execute_result"
    }
   ],
   "source": [
    "import pandas as pd\n",
    "\n",
    "labels = ['现代生物技术专题','生物科学与社会','生物技术实践','稳态与环境','遗传与进化','分子与细胞']\n",
    "category = labels[0]\n",
    "\n",
    "file = r'/mnt/d/Dataset/百度题库/高中_生物/origin/'+category+'.csv'\n",
    "df = pd.read_csv(file)\n",
    "print('size:', len(df))\n",
    "\n",
    "# 按网页顺序对其排序\n",
    "df['web-scraper-order'] = df['web-scraper-order'].apply(lambda x: int(x.split('-')[1]))\n",
    "df = df[['web-scraper-order','item']]\n",
    "df = df.sort_values(by='web-scraper-order')\n",
    "\n",
    "# 对文本处理\n",
    "def foo(x):\n",
    "    x = x.strip()\n",
    "    x = x.replace('\\n','')\n",
    "    x = x.replace('\\t','')\n",
    "    x = x.replace('\\r','')\n",
    "    x = x.replace(' ','')\n",
    "    x = x.replace(' ','')\n",
    "    x = x[:x.index('题型')]\n",
    "    return x\n",
    "\n",
    "# 删除文本中的换行\n",
    "df['item'] = df.item.apply(lambda x: foo(x))\n",
    "# 删除带图数据\n",
    "df = df[df.item.str.contains('图')==False]\n",
    "df = df['item']\n",
    "\n",
    "# save\n",
    "with open(r'/mnt/d/Dataset/百度题库/高中_生物/'+category+'.csv','w',encoding='utf8') as f:\n",
    "    f.write('\\n'.join(list(df.values)))\n",
    "category+'Done!'+str(len(df))"
   ]
  },
  {
   "cell_type": "markdown",
   "metadata": {},
   "source": [
    "# 处理数据"
   ]
  },
  {
   "cell_type": "code",
   "execution_count": 72,
   "metadata": {},
   "outputs": [
    {
     "data": {
      "text/plain": [
       "(17920,\n",
       " 17920,\n",
       " {'高中_地理': 0,\n",
       "  '高中_历史': 1,\n",
       "  '高中_生物': 2,\n",
       "  '高中_政治': 3,\n",
       "  '高中_政治_公民道德与伦理常识': 4,\n",
       "  '高中_历史_近代史': 5,\n",
       "  '高中_历史_现代史': 6,\n",
       "  '高中_地理_人口与城市': 7,\n",
       "  '高中_地理_宇宙中的地球': 8,\n",
       "  '高中_生物_分子与细胞': 9,\n",
       "  '高中_生物_稳态与环境': 10,\n",
       "  '高中_生物_生物技术实践': 11,\n",
       "  '高中_生物_生物科学与社会': 12},\n",
       " {'高中_政治_公民道德与伦理常识': 1760,\n",
       "  '高中_历史_近代史': 1456,\n",
       "  '高中_历史_现代史': 2139,\n",
       "  '高中_地理_人口与城市': 1068,\n",
       "  '高中_地理_宇宙中的地球': 2742,\n",
       "  '高中_生物_分子与细胞': 2241,\n",
       "  '高中_生物_稳态与环境': 2520,\n",
       "  '高中_生物_生物技术实践': 1257,\n",
       "  '高中_生物_生物科学与社会': 2737},\n",
       " 17920)"
      ]
     },
     "execution_count": 72,
     "metadata": {},
     "output_type": "execute_result"
    }
   ],
   "source": [
    "import os\n",
    "import pandas as pd\n",
    "\n",
    "path = r'/mnt/d/Dataset/百度题库/'\n",
    "label_id = dict(zip(['高中_地理','高中_历史','高中_生物','高中_政治'],range(4)))\n",
    "label_count = {}\n",
    "\n",
    "x = []\n",
    "y = []\n",
    "\n",
    "\n",
    "for label in os.listdir(path):\n",
    "    for doc in os.listdir(path+label):\n",
    "        if not doc.endswith('csv'):\n",
    "            continue\n",
    "        \n",
    "        sublabel = os.path.splitext(doc)[0]\n",
    "        data = open(path+label+'/'+doc).readlines()\n",
    "        data = list(map(lambda x: x[4:], data))\n",
    "        \n",
    "        if len(data)<1000:continue\n",
    "        \n",
    "        x.extend(data)\n",
    "        label_count[label+'_'+sublabel] = len(data)\n",
    "        label_id[label+'_'+sublabel] = len(label_id)\n",
    "        y.extend([[label_id[label], label_id[label+'_'+sublabel]]]*len(data))\n",
    "        \n",
    "len(x),len(y),label_id,label_count,sum(label_count.values())"
   ]
  }
 ],
 "metadata": {
  "kernelspec": {
   "display_name": "ml",
   "language": "python",
   "name": "ml"
  },
  "language_info": {
   "codemirror_mode": {
    "name": "ipython",
    "version": 3
   },
   "file_extension": ".py",
   "mimetype": "text/x-python",
   "name": "python",
   "nbconvert_exporter": "python",
   "pygments_lexer": "ipython3",
   "version": "3.6.9"
  }
 },
 "nbformat": 4,
 "nbformat_minor": 2
}
