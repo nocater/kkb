{
 "cells": [
  {
   "cell_type": "markdown",
   "metadata": {},
   "source": [
    "# 数据处理"
   ]
  },
  {
   "cell_type": "markdown",
   "metadata": {},
   "source": [
    "## 高中政治"
   ]
  },
  {
   "cell_type": "code",
   "execution_count": 46,
   "metadata": {},
   "outputs": [
    {
     "name": "stdout",
     "output_type": "stream",
     "text": [
      "size: 170\n"
     ]
    },
    {
     "data": {
      "text/plain": [
       "'生活中的法律常识Done!'"
      ]
     },
     "execution_count": 46,
     "metadata": {},
     "output_type": "execute_result"
    }
   ],
   "source": [
    "import pandas as pd\n",
    "\n",
    "labels = ['经济学常识', '科学思维常识', '生活中的法律常识']\n",
    "category = '生活中的法律常识'\n",
    "\n",
    "file = r'/mnt/d/Dataset/百度题库/高中-政治/origin/'+category+'.csv'\n",
    "df = pd.read_csv(file)\n",
    "print('size:', len(df))\n",
    "\n",
    "# 按网页顺序对其排序\n",
    "df['web-scraper-order'] = df['web-scraper-order'].apply(lambda x: int(x.split('-')[1]))\n",
    "df = df[['web-scraper-order','item']]\n",
    "df = df.sort_values(by='web-scraper-order')\n",
    "\n",
    "# 对文本处理\n",
    "def foo(x):\n",
    "    x = x.strip()\n",
    "    x = x.replace('\\n','')\n",
    "    x = x.replace('\\t','')\n",
    "    x = x.replace('\\r','')\n",
    "    x = x.replace(' ','')\n",
    "    x = x.replace(' ','')\n",
    "    x = x[:x.index('题型')]\n",
    "    return x\n",
    "\n",
    "# 删除文本中的换行\n",
    "df['item'] = df.item.apply(lambda x: foo(x))\n",
    "df = df['item']\n",
    "\n",
    "# save\n",
    "with open(r'/mnt/d/Dataset/百度题库/高中-政治/'+category+'.csv','w',encoding='utf8') as f:\n",
    "    f.write('\\n'.join(list(df.values)))\n",
    "category+'Done!'"
   ]
  },
  {
   "cell_type": "markdown",
   "metadata": {},
   "source": [
    "# 高中历史"
   ]
  },
  {
   "cell_type": "code",
   "execution_count": 14,
   "metadata": {},
   "outputs": [
    {
     "name": "stdout",
     "output_type": "stream",
     "text": [
      "size: 1640\n"
     ]
    },
    {
     "data": {
      "text/plain": [
       "'近代史Done!'"
      ]
     },
     "execution_count": 14,
     "metadata": {},
     "output_type": "execute_result"
    }
   ],
   "source": [
    "import pandas as pd\n",
    "\n",
    "labels = ['古代史', '近代史', '现代史']\n",
    "category = labels[1]\n",
    "\n",
    "file = r'/mnt/d/Dataset/百度题库/高中-历史/origin/'+category+'.csv'\n",
    "df = pd.read_csv(file)\n",
    "print('size:', len(df))\n",
    "\n",
    "# 按网页顺序对其排序\n",
    "df['web-scraper-order'] = df['web-scraper-order'].apply(lambda x: int(x.split('-')[1]))\n",
    "df = df[['web-scraper-order','item']]\n",
    "df = df.sort_values(by='web-scraper-order')\n",
    "\n",
    "# 对文本处理\n",
    "def foo(x):\n",
    "    x = x.strip()\n",
    "    x = x.replace('\\n','')\n",
    "    x = x.replace('\\t','')\n",
    "    x = x.replace('\\r','')\n",
    "    x = x.replace(' ','')\n",
    "    x = x.replace(' ','')\n",
    "    x = x[:x.index('题型')]\n",
    "    return x\n",
    "\n",
    "# 删除文本中的换行\n",
    "df['item'] = df.item.apply(lambda x: foo(x))\n",
    "# 删除带图数据\n",
    "df = df[df.item.str.contains('图')==False]\n",
    "df = df['item']\n",
    "\n",
    "# save\n",
    "with open(r'/mnt/d/Dataset/百度题库/高中-历史/'+category+'.csv','w',encoding='utf8') as f:\n",
    "    f.write('\\n'.join(list(df.values)))\n",
    "category+'Done!'"
   ]
  }
 ],
 "metadata": {
  "kernelspec": {
   "display_name": "ml",
   "language": "python",
   "name": "ml"
  },
  "language_info": {
   "codemirror_mode": {
    "name": "ipython",
    "version": 3
   },
   "file_extension": ".py",
   "mimetype": "text/x-python",
   "name": "python",
   "nbconvert_exporter": "python",
   "pygments_lexer": "ipython3",
   "version": "3.6.9"
  }
 },
 "nbformat": 4,
 "nbformat_minor": 2
}
